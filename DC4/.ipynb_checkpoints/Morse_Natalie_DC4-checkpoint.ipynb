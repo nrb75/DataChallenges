{
 "cells": [
  {
   "cell_type": "markdown",
   "metadata": {},
   "source": [
    "## Are soccer referees more likely to give red cards to dark skin toned players than light skin toned players?\n",
    "\n",
    "### Executive Summary\n",
    "\n",
    "No, refs are not more likely to give red cards to dark skin-toned players than light skin-toned players. This was shown by comparing whether or not a player received any red-card, and if it was dependent on a light (0-0.7 skin-tone rating) or dark (0.8-1 skin-tone rating) as assessed with a Chi-squared test.\n",
    "Likewise, the total number of red-cards for that players career was not dependent on skin-tone light vs. dark as assessed with a non-parametric Mann-Whiteny test. This test is analagous to a normal t-test.\n"
   ]
  },
  {
   "cell_type": "markdown",
   "metadata": {},
   "source": [
    "Description of the data:\n",
    "\n",
    " playerShort \n",
    "short player ID\n",
    "\n",
    " player \n",
    "player name\n",
    "\n",
    " club\n",
    "player club\n",
    "\n",
    " leagueCountry\n",
    "country of player club (England, Germany, France, and Spain)\n",
    "\n",
    " birthday\n",
    "player birthday\n",
    "\n",
    " height\n",
    "player height (in cm)\n",
    "\n",
    " weight\n",
    "player weight (in kg)\n",
    "\n",
    " position\n",
    "detailed player position \n",
    "\n",
    " games\n",
    "number of games in the player-referee dyad\n",
    "\n",
    " victories\n",
    "victories in the player-referee dyad\n",
    "\n",
    " ties\n",
    "ties in the player-referee dyad\n",
    "\n",
    " defeats\n",
    "losses in the player-referee dyad\n",
    "\n",
    " goals\n",
    "goals scored by a player in the player-referee dyad\n",
    "\n",
    " yellowCards\n",
    "number of yellow cards player received from referee\n",
    "\n",
    " yellowReds\n",
    "number of yellow-red cards player received from referee\n",
    "\n",
    " redCards\n",
    "number of red cards player received from referee\n",
    "\n",
    " photoID\n",
    "ID of player photo (if available)\n",
    "\n",
    " rater1\n",
    "skin rating of photo by rater 1 (5-point scale ranging from 'very light skin' to 'very dark skin')\n",
    "\n",
    " rater2\n",
    "skin rating of photo by rater 2 (5-point scale ranging from 'very light skin' to 'very dark skin')\n",
    "\n",
    " refNum\n",
    "unique referee ID number (referee name removed for anonymizing purposes)\n",
    "\n",
    " refCountry\n",
    "unique referee country ID number (country name removed for anonymizing purposes)\n",
    "\n",
    " meanIAT\n",
    "mean implicit bias score (using the race IAT) for referee country, higher values correspond to faster white | good, black | bad associations \n",
    "\n",
    " nIAT\n",
    "sample size for race IAT in that particular country\n",
    "\n",
    " seIAT\n",
    "standard error for mean estimate of race IAT       \n",
    "\n",
    " meanExp\n",
    "mean explicit bias score (using a racial thermometer task) for referee country, higher values correspond to greater feelings of warmth toward whites versus blacks\n",
    "\n",
    " nExp\n",
    "sample size for explicit bias in that particular country\n",
    "\n",
    " seExp\n",
    "standard error for mean estimate of explicit bias measure"
   ]
  },
  {
   "cell_type": "markdown",
   "metadata": {},
   "source": [
    "### Key variables to focus on:\n",
    "    \n",
    "    1. 'redCards' the number of red cards given to that player, by a specific referee. There will be multiple entries for each player b/c there are multiple referees. This is our target variable, basically trying to discern how likely we are to get more redcards with darker skin.\n",
    "    \n",
    "    2. 'rater1' and 'rater2' = skin color rating 0= light, 1= dark. The hypothesis that a skin rating of 5 corresponds with more red cards.\n",
    "    \n",
    "    3. 'games' = number of games that the player and ref have played in the same game. It may be that a ref holds a grudge against a team and/or player.\n",
    "    \n",
    "    'IAT' features = Implicit Association Test for racial bias. While these ratings are important and may show us why certain refs are more prone to racial bias, that is not the main question. The question is DO REFS GIVE MORE RED CARDS TO PLAYERS WITH DARKER SKIN? not why? Therefore, I will not focus on these metrics right now."
   ]
  },
  {
   "cell_type": "code",
   "execution_count": 1,
   "metadata": {},
   "outputs": [],
   "source": [
    "import numpy as np\n",
    "import pandas as pd\n",
    "import seaborn as sns\n",
    "import matplotlib.pyplot as plt"
   ]
  },
  {
   "cell_type": "code",
   "execution_count": 2,
   "metadata": {},
   "outputs": [],
   "source": [
    "#import the data\n",
    "df_1=pd.read_csv('redcard_1.csv')\n",
    "df_2=pd.read_csv('redcard_2.csv')"
   ]
  },
  {
   "cell_type": "code",
   "execution_count": 3,
   "metadata": {},
   "outputs": [
    {
     "data": {
      "text/html": [
       "<div>\n",
       "<style scoped>\n",
       "    .dataframe tbody tr th:only-of-type {\n",
       "        vertical-align: middle;\n",
       "    }\n",
       "\n",
       "    .dataframe tbody tr th {\n",
       "        vertical-align: top;\n",
       "    }\n",
       "\n",
       "    .dataframe thead th {\n",
       "        text-align: right;\n",
       "    }\n",
       "</style>\n",
       "<table border=\"1\" class=\"dataframe\">\n",
       "  <thead>\n",
       "    <tr style=\"text-align: right;\">\n",
       "      <th></th>\n",
       "      <th>Unnamed: 0</th>\n",
       "      <th>playerShort</th>\n",
       "      <th>player</th>\n",
       "      <th>club</th>\n",
       "      <th>leagueCountry</th>\n",
       "      <th>birthday</th>\n",
       "      <th>height</th>\n",
       "      <th>weight</th>\n",
       "      <th>position</th>\n",
       "      <th>games</th>\n",
       "      <th>...</th>\n",
       "      <th>rater2</th>\n",
       "      <th>refNum</th>\n",
       "      <th>refCountry</th>\n",
       "      <th>Alpha_3</th>\n",
       "      <th>meanIAT</th>\n",
       "      <th>nIAT</th>\n",
       "      <th>seIAT</th>\n",
       "      <th>meanExp</th>\n",
       "      <th>nExp</th>\n",
       "      <th>seExp</th>\n",
       "    </tr>\n",
       "  </thead>\n",
       "  <tbody>\n",
       "    <tr>\n",
       "      <th>0</th>\n",
       "      <td>0</td>\n",
       "      <td>lucas-wilchez</td>\n",
       "      <td>Lucas Wilchez</td>\n",
       "      <td>Real Zaragoza</td>\n",
       "      <td>Spain</td>\n",
       "      <td>31.08.1983</td>\n",
       "      <td>177.0</td>\n",
       "      <td>72.0</td>\n",
       "      <td>Attacking Midfielder</td>\n",
       "      <td>1</td>\n",
       "      <td>...</td>\n",
       "      <td>0.50</td>\n",
       "      <td>1</td>\n",
       "      <td>1</td>\n",
       "      <td>GRC</td>\n",
       "      <td>0.326391</td>\n",
       "      <td>712.0</td>\n",
       "      <td>0.000564</td>\n",
       "      <td>0.396000</td>\n",
       "      <td>750.0</td>\n",
       "      <td>0.002696</td>\n",
       "    </tr>\n",
       "    <tr>\n",
       "      <th>1</th>\n",
       "      <td>1</td>\n",
       "      <td>john-utaka</td>\n",
       "      <td>John Utaka</td>\n",
       "      <td>Montpellier HSC</td>\n",
       "      <td>France</td>\n",
       "      <td>08.01.1982</td>\n",
       "      <td>179.0</td>\n",
       "      <td>82.0</td>\n",
       "      <td>Right Winger</td>\n",
       "      <td>1</td>\n",
       "      <td>...</td>\n",
       "      <td>0.75</td>\n",
       "      <td>2</td>\n",
       "      <td>2</td>\n",
       "      <td>ZMB</td>\n",
       "      <td>0.203375</td>\n",
       "      <td>40.0</td>\n",
       "      <td>0.010875</td>\n",
       "      <td>-0.204082</td>\n",
       "      <td>49.0</td>\n",
       "      <td>0.061504</td>\n",
       "    </tr>\n",
       "    <tr>\n",
       "      <th>2</th>\n",
       "      <td>2</td>\n",
       "      <td>abdon-prats</td>\n",
       "      <td>Abdón Prats</td>\n",
       "      <td>RCD Mallorca</td>\n",
       "      <td>Spain</td>\n",
       "      <td>17.12.1992</td>\n",
       "      <td>181.0</td>\n",
       "      <td>79.0</td>\n",
       "      <td>NaN</td>\n",
       "      <td>1</td>\n",
       "      <td>...</td>\n",
       "      <td>NaN</td>\n",
       "      <td>3</td>\n",
       "      <td>3</td>\n",
       "      <td>ESP</td>\n",
       "      <td>0.369894</td>\n",
       "      <td>1785.0</td>\n",
       "      <td>0.000229</td>\n",
       "      <td>0.588297</td>\n",
       "      <td>1897.0</td>\n",
       "      <td>0.001002</td>\n",
       "    </tr>\n",
       "    <tr>\n",
       "      <th>3</th>\n",
       "      <td>3</td>\n",
       "      <td>pablo-mari</td>\n",
       "      <td>Pablo Marí</td>\n",
       "      <td>RCD Mallorca</td>\n",
       "      <td>Spain</td>\n",
       "      <td>31.08.1993</td>\n",
       "      <td>191.0</td>\n",
       "      <td>87.0</td>\n",
       "      <td>Center Back</td>\n",
       "      <td>1</td>\n",
       "      <td>...</td>\n",
       "      <td>NaN</td>\n",
       "      <td>3</td>\n",
       "      <td>3</td>\n",
       "      <td>ESP</td>\n",
       "      <td>0.369894</td>\n",
       "      <td>1785.0</td>\n",
       "      <td>0.000229</td>\n",
       "      <td>0.588297</td>\n",
       "      <td>1897.0</td>\n",
       "      <td>0.001002</td>\n",
       "    </tr>\n",
       "    <tr>\n",
       "      <th>4</th>\n",
       "      <td>4</td>\n",
       "      <td>ruben-pena</td>\n",
       "      <td>Rubén Peña</td>\n",
       "      <td>Real Valladolid</td>\n",
       "      <td>Spain</td>\n",
       "      <td>18.07.1991</td>\n",
       "      <td>172.0</td>\n",
       "      <td>70.0</td>\n",
       "      <td>Right Midfielder</td>\n",
       "      <td>1</td>\n",
       "      <td>...</td>\n",
       "      <td>NaN</td>\n",
       "      <td>3</td>\n",
       "      <td>3</td>\n",
       "      <td>ESP</td>\n",
       "      <td>0.369894</td>\n",
       "      <td>1785.0</td>\n",
       "      <td>0.000229</td>\n",
       "      <td>0.588297</td>\n",
       "      <td>1897.0</td>\n",
       "      <td>0.001002</td>\n",
       "    </tr>\n",
       "  </tbody>\n",
       "</table>\n",
       "<p>5 rows × 29 columns</p>\n",
       "</div>"
      ],
      "text/plain": [
       "   Unnamed: 0    playerShort         player             club leagueCountry  \\\n",
       "0           0  lucas-wilchez  Lucas Wilchez    Real Zaragoza         Spain   \n",
       "1           1     john-utaka     John Utaka  Montpellier HSC        France   \n",
       "2           2    abdon-prats    Abdón Prats     RCD Mallorca         Spain   \n",
       "3           3     pablo-mari     Pablo Marí     RCD Mallorca         Spain   \n",
       "4           4     ruben-pena     Rubén Peña  Real Valladolid         Spain   \n",
       "\n",
       "     birthday  height  weight              position  games    ...     rater2  \\\n",
       "0  31.08.1983   177.0    72.0  Attacking Midfielder      1    ...       0.50   \n",
       "1  08.01.1982   179.0    82.0          Right Winger      1    ...       0.75   \n",
       "2  17.12.1992   181.0    79.0                   NaN      1    ...        NaN   \n",
       "3  31.08.1993   191.0    87.0           Center Back      1    ...        NaN   \n",
       "4  18.07.1991   172.0    70.0      Right Midfielder      1    ...        NaN   \n",
       "\n",
       "   refNum  refCountry  Alpha_3   meanIAT    nIAT     seIAT   meanExp    nExp  \\\n",
       "0       1           1      GRC  0.326391   712.0  0.000564  0.396000   750.0   \n",
       "1       2           2      ZMB  0.203375    40.0  0.010875 -0.204082    49.0   \n",
       "2       3           3      ESP  0.369894  1785.0  0.000229  0.588297  1897.0   \n",
       "3       3           3      ESP  0.369894  1785.0  0.000229  0.588297  1897.0   \n",
       "4       3           3      ESP  0.369894  1785.0  0.000229  0.588297  1897.0   \n",
       "\n",
       "      seExp  \n",
       "0  0.002696  \n",
       "1  0.061504  \n",
       "2  0.001002  \n",
       "3  0.001002  \n",
       "4  0.001002  \n",
       "\n",
       "[5 rows x 29 columns]"
      ]
     },
     "execution_count": 3,
     "metadata": {},
     "output_type": "execute_result"
    }
   ],
   "source": [
    "df_1.head()"
   ]
  },
  {
   "cell_type": "code",
   "execution_count": 4,
   "metadata": {},
   "outputs": [
    {
     "data": {
      "text/html": [
       "<div>\n",
       "<style scoped>\n",
       "    .dataframe tbody tr th:only-of-type {\n",
       "        vertical-align: middle;\n",
       "    }\n",
       "\n",
       "    .dataframe tbody tr th {\n",
       "        vertical-align: top;\n",
       "    }\n",
       "\n",
       "    .dataframe thead th {\n",
       "        text-align: right;\n",
       "    }\n",
       "</style>\n",
       "<table border=\"1\" class=\"dataframe\">\n",
       "  <thead>\n",
       "    <tr style=\"text-align: right;\">\n",
       "      <th></th>\n",
       "      <th>Unnamed: 0</th>\n",
       "      <th>playerShort</th>\n",
       "      <th>player</th>\n",
       "      <th>club</th>\n",
       "      <th>leagueCountry</th>\n",
       "      <th>birthday</th>\n",
       "      <th>height</th>\n",
       "      <th>weight</th>\n",
       "      <th>position</th>\n",
       "      <th>games</th>\n",
       "      <th>...</th>\n",
       "      <th>rater2</th>\n",
       "      <th>refNum</th>\n",
       "      <th>refCountry</th>\n",
       "      <th>Alpha_3</th>\n",
       "      <th>meanIAT</th>\n",
       "      <th>nIAT</th>\n",
       "      <th>seIAT</th>\n",
       "      <th>meanExp</th>\n",
       "      <th>nExp</th>\n",
       "      <th>seExp</th>\n",
       "    </tr>\n",
       "  </thead>\n",
       "  <tbody>\n",
       "    <tr>\n",
       "      <th>0</th>\n",
       "      <td>73014</td>\n",
       "      <td>kevin-vogt</td>\n",
       "      <td>Kevin Vogt</td>\n",
       "      <td>FC Augsburg</td>\n",
       "      <td>Germany</td>\n",
       "      <td>23.09.1991</td>\n",
       "      <td>194.0</td>\n",
       "      <td>80.0</td>\n",
       "      <td>Defensive Midfielder</td>\n",
       "      <td>1</td>\n",
       "      <td>...</td>\n",
       "      <td>0.00</td>\n",
       "      <td>1604</td>\n",
       "      <td>8</td>\n",
       "      <td>DEU</td>\n",
       "      <td>0.336628</td>\n",
       "      <td>7749.0</td>\n",
       "      <td>0.000055</td>\n",
       "      <td>0.335967</td>\n",
       "      <td>7974.0</td>\n",
       "      <td>0.000225</td>\n",
       "    </tr>\n",
       "    <tr>\n",
       "      <th>1</th>\n",
       "      <td>73015</td>\n",
       "      <td>lkay-guendogan</td>\n",
       "      <td>İlkay Gündoğan</td>\n",
       "      <td>Borussia Dortmund</td>\n",
       "      <td>Germany</td>\n",
       "      <td>24.10.1990</td>\n",
       "      <td>180.0</td>\n",
       "      <td>79.0</td>\n",
       "      <td>Attacking Midfielder</td>\n",
       "      <td>1</td>\n",
       "      <td>...</td>\n",
       "      <td>0.25</td>\n",
       "      <td>1604</td>\n",
       "      <td>8</td>\n",
       "      <td>DEU</td>\n",
       "      <td>0.336628</td>\n",
       "      <td>7749.0</td>\n",
       "      <td>0.000055</td>\n",
       "      <td>0.335967</td>\n",
       "      <td>7974.0</td>\n",
       "      <td>0.000225</td>\n",
       "    </tr>\n",
       "    <tr>\n",
       "      <th>2</th>\n",
       "      <td>73016</td>\n",
       "      <td>lukas-schmitz</td>\n",
       "      <td>Lukas Schmitz</td>\n",
       "      <td>Werder Bremen</td>\n",
       "      <td>Germany</td>\n",
       "      <td>13.10.1988</td>\n",
       "      <td>184.0</td>\n",
       "      <td>80.0</td>\n",
       "      <td>Left Fullback</td>\n",
       "      <td>1</td>\n",
       "      <td>...</td>\n",
       "      <td>0.50</td>\n",
       "      <td>1604</td>\n",
       "      <td>8</td>\n",
       "      <td>DEU</td>\n",
       "      <td>0.336628</td>\n",
       "      <td>7749.0</td>\n",
       "      <td>0.000055</td>\n",
       "      <td>0.335967</td>\n",
       "      <td>7974.0</td>\n",
       "      <td>0.000225</td>\n",
       "    </tr>\n",
       "    <tr>\n",
       "      <th>3</th>\n",
       "      <td>73017</td>\n",
       "      <td>manuel-schmiedebach</td>\n",
       "      <td>Manuel Schmiedebach</td>\n",
       "      <td>Hannover 96</td>\n",
       "      <td>Germany</td>\n",
       "      <td>05.12.1988</td>\n",
       "      <td>170.0</td>\n",
       "      <td>70.0</td>\n",
       "      <td>Defensive Midfielder</td>\n",
       "      <td>2</td>\n",
       "      <td>...</td>\n",
       "      <td>0.25</td>\n",
       "      <td>1604</td>\n",
       "      <td>8</td>\n",
       "      <td>DEU</td>\n",
       "      <td>0.336628</td>\n",
       "      <td>7749.0</td>\n",
       "      <td>0.000055</td>\n",
       "      <td>0.335967</td>\n",
       "      <td>7974.0</td>\n",
       "      <td>0.000225</td>\n",
       "    </tr>\n",
       "    <tr>\n",
       "      <th>4</th>\n",
       "      <td>73018</td>\n",
       "      <td>marcel-schmelzer</td>\n",
       "      <td>Marcel Schmelzer</td>\n",
       "      <td>Borussia Dortmund</td>\n",
       "      <td>Germany</td>\n",
       "      <td>22.01.1988</td>\n",
       "      <td>181.0</td>\n",
       "      <td>74.0</td>\n",
       "      <td>Left Fullback</td>\n",
       "      <td>2</td>\n",
       "      <td>...</td>\n",
       "      <td>0.00</td>\n",
       "      <td>1604</td>\n",
       "      <td>8</td>\n",
       "      <td>DEU</td>\n",
       "      <td>0.336628</td>\n",
       "      <td>7749.0</td>\n",
       "      <td>0.000055</td>\n",
       "      <td>0.335967</td>\n",
       "      <td>7974.0</td>\n",
       "      <td>0.000225</td>\n",
       "    </tr>\n",
       "  </tbody>\n",
       "</table>\n",
       "<p>5 rows × 29 columns</p>\n",
       "</div>"
      ],
      "text/plain": [
       "   Unnamed: 0          playerShort               player               club  \\\n",
       "0       73014           kevin-vogt           Kevin Vogt        FC Augsburg   \n",
       "1       73015       lkay-guendogan       İlkay Gündoğan  Borussia Dortmund   \n",
       "2       73016        lukas-schmitz        Lukas Schmitz      Werder Bremen   \n",
       "3       73017  manuel-schmiedebach  Manuel Schmiedebach        Hannover 96   \n",
       "4       73018     marcel-schmelzer     Marcel Schmelzer  Borussia Dortmund   \n",
       "\n",
       "  leagueCountry    birthday  height  weight              position  games  \\\n",
       "0       Germany  23.09.1991   194.0    80.0  Defensive Midfielder      1   \n",
       "1       Germany  24.10.1990   180.0    79.0  Attacking Midfielder      1   \n",
       "2       Germany  13.10.1988   184.0    80.0         Left Fullback      1   \n",
       "3       Germany  05.12.1988   170.0    70.0  Defensive Midfielder      2   \n",
       "4       Germany  22.01.1988   181.0    74.0         Left Fullback      2   \n",
       "\n",
       "     ...     rater2  refNum  refCountry  Alpha_3   meanIAT    nIAT     seIAT  \\\n",
       "0    ...       0.00    1604           8      DEU  0.336628  7749.0  0.000055   \n",
       "1    ...       0.25    1604           8      DEU  0.336628  7749.0  0.000055   \n",
       "2    ...       0.50    1604           8      DEU  0.336628  7749.0  0.000055   \n",
       "3    ...       0.25    1604           8      DEU  0.336628  7749.0  0.000055   \n",
       "4    ...       0.00    1604           8      DEU  0.336628  7749.0  0.000055   \n",
       "\n",
       "    meanExp    nExp     seExp  \n",
       "0  0.335967  7974.0  0.000225  \n",
       "1  0.335967  7974.0  0.000225  \n",
       "2  0.335967  7974.0  0.000225  \n",
       "3  0.335967  7974.0  0.000225  \n",
       "4  0.335967  7974.0  0.000225  \n",
       "\n",
       "[5 rows x 29 columns]"
      ]
     },
     "execution_count": 4,
     "metadata": {},
     "output_type": "execute_result"
    }
   ],
   "source": [
    "df_2.head()"
   ]
  },
  {
   "cell_type": "markdown",
   "metadata": {},
   "source": [
    "## 1. Explore and clean the data\n",
    "\n",
    "Merge the 2 datasets together, as they are the same but contain different players"
   ]
  },
  {
   "cell_type": "code",
   "execution_count": 5,
   "metadata": {},
   "outputs": [
    {
     "name": "stdout",
     "output_type": "stream",
     "text": [
      "<class 'pandas.core.frame.DataFrame'>\n",
      "Int64Index: 146028 entries, 0 to 73013\n",
      "Data columns (total 29 columns):\n",
      "Unnamed: 0       146028 non-null int64\n",
      "playerShort      146028 non-null object\n",
      "player           146028 non-null object\n",
      "club             146028 non-null object\n",
      "leagueCountry    146028 non-null object\n",
      "birthday         146028 non-null object\n",
      "height           145762 non-null float64\n",
      "weight           143890 non-null float64\n",
      "position         128422 non-null object\n",
      "games            146028 non-null int64\n",
      "victories        146028 non-null int64\n",
      "ties             146028 non-null int64\n",
      "defeats          146028 non-null int64\n",
      "goals            146028 non-null int64\n",
      "yellowCards      146028 non-null int64\n",
      "yellowReds       146028 non-null int64\n",
      "redCards         146028 non-null int64\n",
      "photoID          125294 non-null object\n",
      "rater1           125294 non-null float64\n",
      "rater2           125294 non-null float64\n",
      "refNum           146028 non-null int64\n",
      "refCountry       146028 non-null int64\n",
      "Alpha_3          146028 non-null object\n",
      "meanIAT          145834 non-null float64\n",
      "nIAT             145834 non-null float64\n",
      "seIAT            145834 non-null float64\n",
      "meanExp          145834 non-null float64\n",
      "nExp             145834 non-null float64\n",
      "seExp            145834 non-null float64\n",
      "dtypes: float64(10), int64(11), object(8)\n",
      "memory usage: 33.4+ MB\n"
     ]
    }
   ],
   "source": [
    "df=pd.concat([df_1,df_1])\n",
    "df.info()"
   ]
  },
  {
   "cell_type": "markdown",
   "metadata": {},
   "source": [
    "Check for NA values"
   ]
  },
  {
   "cell_type": "code",
   "execution_count": 6,
   "metadata": {},
   "outputs": [
    {
     "data": {
      "text/plain": [
       "Unnamed: 0       0.000000\n",
       "playerShort      0.000000\n",
       "player           0.000000\n",
       "club             0.000000\n",
       "leagueCountry    0.000000\n",
       "birthday         0.000000\n",
       "height           0.001822\n",
       "weight           0.014641\n",
       "position         0.120566\n",
       "games            0.000000\n",
       "victories        0.000000\n",
       "ties             0.000000\n",
       "defeats          0.000000\n",
       "goals            0.000000\n",
       "yellowCards      0.000000\n",
       "yellowReds       0.000000\n",
       "redCards         0.000000\n",
       "photoID          0.141986\n",
       "rater1           0.141986\n",
       "rater2           0.141986\n",
       "refNum           0.000000\n",
       "refCountry       0.000000\n",
       "Alpha_3          0.000000\n",
       "meanIAT          0.001329\n",
       "nIAT             0.001329\n",
       "seIAT            0.001329\n",
       "meanExp          0.001329\n",
       "nExp             0.001329\n",
       "seExp            0.001329\n",
       "dtype: float64"
      ]
     },
     "execution_count": 6,
     "metadata": {},
     "output_type": "execute_result"
    }
   ],
   "source": [
    "na_list=df.isna().sum()\n",
    "na_list/len(df) # percentage"
   ]
  },
  {
   "cell_type": "markdown",
   "metadata": {},
   "source": [
    "If there is no photoID, there was no way for the judges to rate their skin tone. Therefore anything with missing photoID and rater scores will be removed."
   ]
  },
  {
   "cell_type": "code",
   "execution_count": 7,
   "metadata": {},
   "outputs": [],
   "source": [
    "df=df.dropna(subset=['photoID', 'rater1', 'rater2'])"
   ]
  },
  {
   "cell_type": "markdown",
   "metadata": {},
   "source": [
    "How many different countries are the refs from?"
   ]
  },
  {
   "cell_type": "code",
   "execution_count": 8,
   "metadata": {},
   "outputs": [
    {
     "data": {
      "text/plain": [
       "133"
      ]
     },
     "execution_count": 8,
     "metadata": {},
     "output_type": "execute_result"
    }
   ],
   "source": [
    "len(set(df.refCountry))"
   ]
  },
  {
   "cell_type": "markdown",
   "metadata": {},
   "source": [
    "Since these are all numeric to not show the actual country, we cannot group them by regions. But, we only have 4 countries for the soccer team locations, and 133 unique countries the refs could be from."
   ]
  },
  {
   "cell_type": "markdown",
   "metadata": {},
   "source": [
    "#### Check that the values are within expected ranges"
   ]
  },
  {
   "cell_type": "code",
   "execution_count": 9,
   "metadata": {},
   "outputs": [
    {
     "data": {
      "text/html": [
       "<div>\n",
       "<style scoped>\n",
       "    .dataframe tbody tr th:only-of-type {\n",
       "        vertical-align: middle;\n",
       "    }\n",
       "\n",
       "    .dataframe tbody tr th {\n",
       "        vertical-align: top;\n",
       "    }\n",
       "\n",
       "    .dataframe thead th {\n",
       "        text-align: right;\n",
       "    }\n",
       "</style>\n",
       "<table border=\"1\" class=\"dataframe\">\n",
       "  <thead>\n",
       "    <tr style=\"text-align: right;\">\n",
       "      <th></th>\n",
       "      <th>Unnamed: 0</th>\n",
       "      <th>height</th>\n",
       "      <th>weight</th>\n",
       "      <th>games</th>\n",
       "      <th>victories</th>\n",
       "      <th>ties</th>\n",
       "      <th>defeats</th>\n",
       "      <th>goals</th>\n",
       "      <th>yellowCards</th>\n",
       "      <th>yellowReds</th>\n",
       "      <th>redCards</th>\n",
       "      <th>rater1</th>\n",
       "      <th>rater2</th>\n",
       "      <th>refNum</th>\n",
       "      <th>refCountry</th>\n",
       "    </tr>\n",
       "  </thead>\n",
       "  <tbody>\n",
       "    <tr>\n",
       "      <th>count</th>\n",
       "      <td>125294.000000</td>\n",
       "      <td>125254.000000</td>\n",
       "      <td>124590.000000</td>\n",
       "      <td>125294.000000</td>\n",
       "      <td>125294.000000</td>\n",
       "      <td>125294.000000</td>\n",
       "      <td>125294.000000</td>\n",
       "      <td>125294.000000</td>\n",
       "      <td>125294.000000</td>\n",
       "      <td>125294.000000</td>\n",
       "      <td>125294.000000</td>\n",
       "      <td>125294.000000</td>\n",
       "      <td>125294.000000</td>\n",
       "      <td>125294.000000</td>\n",
       "      <td>125294.000000</td>\n",
       "    </tr>\n",
       "    <tr>\n",
       "      <th>mean</th>\n",
       "      <td>36719.619391</td>\n",
       "      <td>181.935124</td>\n",
       "      <td>76.200995</td>\n",
       "      <td>2.967612</td>\n",
       "      <td>1.328332</td>\n",
       "      <td>0.703497</td>\n",
       "      <td>0.935783</td>\n",
       "      <td>0.347982</td>\n",
       "      <td>0.421233</td>\n",
       "      <td>0.013744</td>\n",
       "      <td>0.012738</td>\n",
       "      <td>0.262598</td>\n",
       "      <td>0.301399</td>\n",
       "      <td>730.865006</td>\n",
       "      <td>25.457037</td>\n",
       "    </tr>\n",
       "    <tr>\n",
       "      <th>std</th>\n",
       "      <td>21106.609563</td>\n",
       "      <td>6.771395</td>\n",
       "      <td>7.111773</td>\n",
       "      <td>3.415901</td>\n",
       "      <td>1.820663</td>\n",
       "      <td>1.104469</td>\n",
       "      <td>1.378129</td>\n",
       "      <td>0.944773</td>\n",
       "      <td>0.845150</td>\n",
       "      <td>0.118464</td>\n",
       "      <td>0.113838</td>\n",
       "      <td>0.290894</td>\n",
       "      <td>0.288370</td>\n",
       "      <td>437.329957</td>\n",
       "      <td>26.870779</td>\n",
       "    </tr>\n",
       "    <tr>\n",
       "      <th>min</th>\n",
       "      <td>0.000000</td>\n",
       "      <td>161.000000</td>\n",
       "      <td>54.000000</td>\n",
       "      <td>1.000000</td>\n",
       "      <td>0.000000</td>\n",
       "      <td>0.000000</td>\n",
       "      <td>0.000000</td>\n",
       "      <td>0.000000</td>\n",
       "      <td>0.000000</td>\n",
       "      <td>0.000000</td>\n",
       "      <td>0.000000</td>\n",
       "      <td>0.000000</td>\n",
       "      <td>0.000000</td>\n",
       "      <td>1.000000</td>\n",
       "      <td>1.000000</td>\n",
       "    </tr>\n",
       "    <tr>\n",
       "      <th>25%</th>\n",
       "      <td>18700.250000</td>\n",
       "      <td>177.000000</td>\n",
       "      <td>71.000000</td>\n",
       "      <td>1.000000</td>\n",
       "      <td>0.000000</td>\n",
       "      <td>0.000000</td>\n",
       "      <td>0.000000</td>\n",
       "      <td>0.000000</td>\n",
       "      <td>0.000000</td>\n",
       "      <td>0.000000</td>\n",
       "      <td>0.000000</td>\n",
       "      <td>0.000000</td>\n",
       "      <td>0.000000</td>\n",
       "      <td>367.000000</td>\n",
       "      <td>3.000000</td>\n",
       "    </tr>\n",
       "    <tr>\n",
       "      <th>50%</th>\n",
       "      <td>36955.000000</td>\n",
       "      <td>182.000000</td>\n",
       "      <td>76.000000</td>\n",
       "      <td>2.000000</td>\n",
       "      <td>1.000000</td>\n",
       "      <td>0.000000</td>\n",
       "      <td>1.000000</td>\n",
       "      <td>0.000000</td>\n",
       "      <td>0.000000</td>\n",
       "      <td>0.000000</td>\n",
       "      <td>0.000000</td>\n",
       "      <td>0.250000</td>\n",
       "      <td>0.250000</td>\n",
       "      <td>655.000000</td>\n",
       "      <td>8.000000</td>\n",
       "    </tr>\n",
       "    <tr>\n",
       "      <th>75%</th>\n",
       "      <td>54912.750000</td>\n",
       "      <td>187.000000</td>\n",
       "      <td>81.000000</td>\n",
       "      <td>3.000000</td>\n",
       "      <td>2.000000</td>\n",
       "      <td>1.000000</td>\n",
       "      <td>1.000000</td>\n",
       "      <td>0.000000</td>\n",
       "      <td>1.000000</td>\n",
       "      <td>0.000000</td>\n",
       "      <td>0.000000</td>\n",
       "      <td>0.250000</td>\n",
       "      <td>0.500000</td>\n",
       "      <td>1096.000000</td>\n",
       "      <td>44.000000</td>\n",
       "    </tr>\n",
       "    <tr>\n",
       "      <th>max</th>\n",
       "      <td>73013.000000</td>\n",
       "      <td>203.000000</td>\n",
       "      <td>100.000000</td>\n",
       "      <td>47.000000</td>\n",
       "      <td>29.000000</td>\n",
       "      <td>13.000000</td>\n",
       "      <td>17.000000</td>\n",
       "      <td>23.000000</td>\n",
       "      <td>14.000000</td>\n",
       "      <td>3.000000</td>\n",
       "      <td>2.000000</td>\n",
       "      <td>1.000000</td>\n",
       "      <td>1.000000</td>\n",
       "      <td>1604.000000</td>\n",
       "      <td>137.000000</td>\n",
       "    </tr>\n",
       "  </tbody>\n",
       "</table>\n",
       "</div>"
      ],
      "text/plain": [
       "          Unnamed: 0         height         weight          games  \\\n",
       "count  125294.000000  125254.000000  124590.000000  125294.000000   \n",
       "mean    36719.619391     181.935124      76.200995       2.967612   \n",
       "std     21106.609563       6.771395       7.111773       3.415901   \n",
       "min         0.000000     161.000000      54.000000       1.000000   \n",
       "25%     18700.250000     177.000000      71.000000       1.000000   \n",
       "50%     36955.000000     182.000000      76.000000       2.000000   \n",
       "75%     54912.750000     187.000000      81.000000       3.000000   \n",
       "max     73013.000000     203.000000     100.000000      47.000000   \n",
       "\n",
       "           victories           ties        defeats          goals  \\\n",
       "count  125294.000000  125294.000000  125294.000000  125294.000000   \n",
       "mean        1.328332       0.703497       0.935783       0.347982   \n",
       "std         1.820663       1.104469       1.378129       0.944773   \n",
       "min         0.000000       0.000000       0.000000       0.000000   \n",
       "25%         0.000000       0.000000       0.000000       0.000000   \n",
       "50%         1.000000       0.000000       1.000000       0.000000   \n",
       "75%         2.000000       1.000000       1.000000       0.000000   \n",
       "max        29.000000      13.000000      17.000000      23.000000   \n",
       "\n",
       "         yellowCards     yellowReds       redCards         rater1  \\\n",
       "count  125294.000000  125294.000000  125294.000000  125294.000000   \n",
       "mean        0.421233       0.013744       0.012738       0.262598   \n",
       "std         0.845150       0.118464       0.113838       0.290894   \n",
       "min         0.000000       0.000000       0.000000       0.000000   \n",
       "25%         0.000000       0.000000       0.000000       0.000000   \n",
       "50%         0.000000       0.000000       0.000000       0.250000   \n",
       "75%         1.000000       0.000000       0.000000       0.250000   \n",
       "max        14.000000       3.000000       2.000000       1.000000   \n",
       "\n",
       "              rater2         refNum     refCountry  \n",
       "count  125294.000000  125294.000000  125294.000000  \n",
       "mean        0.301399     730.865006      25.457037  \n",
       "std         0.288370     437.329957      26.870779  \n",
       "min         0.000000       1.000000       1.000000  \n",
       "25%         0.000000     367.000000       3.000000  \n",
       "50%         0.250000     655.000000       8.000000  \n",
       "75%         0.500000    1096.000000      44.000000  \n",
       "max         1.000000    1604.000000     137.000000  "
      ]
     },
     "execution_count": 9,
     "metadata": {},
     "output_type": "execute_result"
    }
   ],
   "source": [
    "df.iloc[:,0:22].describe()"
   ]
  },
  {
   "cell_type": "markdown",
   "metadata": {},
   "source": [
    "This all looks good. "
   ]
  },
  {
   "cell_type": "markdown",
   "metadata": {},
   "source": [
    "## 2. Feature Engineering\n",
    "\n",
    "Now, since we have 2 ratings for skin-tone we need to know how to handle differences between raters. My first idea is to simply average the rater1 and rater2 values. Create a new feature 'avg_rate'\n"
   ]
  },
  {
   "cell_type": "code",
   "execution_count": 10,
   "metadata": {},
   "outputs": [],
   "source": [
    "df['avg_rate']=(df.rater1+ df.rater2)/2"
   ]
  },
  {
   "cell_type": "code",
   "execution_count": 11,
   "metadata": {},
   "outputs": [
    {
     "data": {
      "text/plain": [
       "Text(0, 0.5, 'Frequency')"
      ]
     },
     "execution_count": 11,
     "metadata": {},
     "output_type": "execute_result"
    },
    {
     "data": {
      "image/png": "[encoded data removed]",
      "text/plain": [
       "<Figure size 432x288 with 1 Axes>"
      ]
     },
     "metadata": {
      "needs_background": "light"
     },
     "output_type": "display_data"
    }
   ],
   "source": [
    "plt.hist(df['avg_rate'])\n",
    "plt.xlabel(\"avg skin tone rating\")\n",
    "plt.ylabel(\"Frequency\")"
   ]
  },
  {
   "cell_type": "markdown",
   "metadata": {},
   "source": [
    "While skin tone may influence refs, it may also be a threshold issue where a ref sees 'light' and 'dark', not a value of .25 or .5. Therefore, for the darkest skin-tone I will create a new feature called 'dark', where it will be 1 if that person gets a rating equal to or above 0.8, and 0 for all other values."
   ]
  },
  {
   "cell_type": "code",
   "execution_count": 12,
   "metadata": {},
   "outputs": [],
   "source": [
    "df['dark']=np.where(df['avg_rate']>=.8, 1, 0)"
   ]
  },
  {
   "cell_type": "code",
   "execution_count": 13,
   "metadata": {
    "scrolled": true
   },
   "outputs": [
    {
     "data": {
      "text/plain": [
       "Text(0.5, 6.79999999999999, 'number of redcards given to a player by a specific ref')"
      ]
     },
     "execution_count": 13,
     "metadata": {},
     "output_type": "execute_result"
    },
    {
     "data": {
      "image/png": "[encoded data removed]",
      "text/plain": [
       "<Figure size 720x360 with 2 Axes>"
      ]
     },
     "metadata": {
      "needs_background": "light"
     },
     "output_type": "display_data"
    }
   ],
   "source": [
    "sns.catplot(\"redCards\", col=\"dark\",data=df, kind=\"count\")\n",
    "\n",
    "plt.xlabel(\"number of redcards given to a player by a specific ref\")"
   ]
  },
  {
   "cell_type": "markdown",
   "metadata": {},
   "source": [
    "While it would be great to keep all the individual ref-player interactions, I first want to group everything by player and just see if the total number of redcards changes with skin-tone. Create a new dataframe grouped by player, where redcards are the total redcards received by that player."
   ]
  },
  {
   "cell_type": "code",
   "execution_count": 14,
   "metadata": {},
   "outputs": [],
   "source": [
    "df_player=df.groupby(['player','playerShort','club','leagueCountry', 'position', 'height', 'weight'], as_index=False).agg({'redCards': 'sum',\n",
    "                                                            'yellowReds':'sum',\n",
    "                                                           'games': 'sum',\n",
    "                                                            'victories': 'sum',\n",
    "                                                            'defeats':'sum',\n",
    "                                                           'avg_rate': 'mean',\n",
    "                                                            'dark':'mean'})"
   ]
  },
  {
   "cell_type": "markdown",
   "metadata": {},
   "source": [
    "There are 'yellowRed' and 'redCards' features, but we want to know about total redcards. So, we will combine these 2 features together to get a total redcard feature."
   ]
  },
  {
   "cell_type": "code",
   "execution_count": 29,
   "metadata": {},
   "outputs": [],
   "source": [
    "df_player['total_reds']=df_player.redCards+df_player.yellowReds"
   ]
  },
  {
   "cell_type": "code",
   "execution_count": 30,
   "metadata": {},
   "outputs": [
    {
     "data": {
      "text/html": [
       "<div>\n",
       "<style scoped>\n",
       "    .dataframe tbody tr th:only-of-type {\n",
       "        vertical-align: middle;\n",
       "    }\n",
       "\n",
       "    .dataframe tbody tr th {\n",
       "        vertical-align: top;\n",
       "    }\n",
       "\n",
       "    .dataframe thead th {\n",
       "        text-align: right;\n",
       "    }\n",
       "</style>\n",
       "<table border=\"1\" class=\"dataframe\">\n",
       "  <thead>\n",
       "    <tr style=\"text-align: right;\">\n",
       "      <th></th>\n",
       "      <th>player</th>\n",
       "      <th>playerShort</th>\n",
       "      <th>club</th>\n",
       "      <th>leagueCountry</th>\n",
       "      <th>position</th>\n",
       "      <th>height</th>\n",
       "      <th>weight</th>\n",
       "      <th>redCards</th>\n",
       "      <th>yellowReds</th>\n",
       "      <th>games</th>\n",
       "      <th>victories</th>\n",
       "      <th>defeats</th>\n",
       "      <th>avg_rate</th>\n",
       "      <th>dark</th>\n",
       "      <th>total_reds</th>\n",
       "    </tr>\n",
       "  </thead>\n",
       "  <tbody>\n",
       "    <tr>\n",
       "      <th>0</th>\n",
       "      <td>Adriano</td>\n",
       "      <td>adriano_24</td>\n",
       "      <td>FC Barcelona</td>\n",
       "      <td>Spain</td>\n",
       "      <td>Left Midfielder</td>\n",
       "      <td>172.0</td>\n",
       "      <td>67.0</td>\n",
       "      <td>4</td>\n",
       "      <td>2</td>\n",
       "      <td>540</td>\n",
       "      <td>320</td>\n",
       "      <td>132</td>\n",
       "      <td>0.250</td>\n",
       "      <td>0</td>\n",
       "      <td>6</td>\n",
       "    </tr>\n",
       "    <tr>\n",
       "      <th>1</th>\n",
       "      <td>Adrián</td>\n",
       "      <td>adrian_2</td>\n",
       "      <td>Atlético Madrid</td>\n",
       "      <td>Spain</td>\n",
       "      <td>Center Forward</td>\n",
       "      <td>183.0</td>\n",
       "      <td>73.0</td>\n",
       "      <td>0</td>\n",
       "      <td>0</td>\n",
       "      <td>450</td>\n",
       "      <td>216</td>\n",
       "      <td>136</td>\n",
       "      <td>0.125</td>\n",
       "      <td>0</td>\n",
       "      <td>0</td>\n",
       "    </tr>\n",
       "    <tr>\n",
       "      <th>2</th>\n",
       "      <td>Adrián</td>\n",
       "      <td>adrian_7</td>\n",
       "      <td>SD Compostela</td>\n",
       "      <td>Spain</td>\n",
       "      <td>Goalkeeper</td>\n",
       "      <td>188.0</td>\n",
       "      <td>82.0</td>\n",
       "      <td>0</td>\n",
       "      <td>0</td>\n",
       "      <td>42</td>\n",
       "      <td>10</td>\n",
       "      <td>10</td>\n",
       "      <td>0.250</td>\n",
       "      <td>0</td>\n",
       "      <td>0</td>\n",
       "    </tr>\n",
       "    <tr>\n",
       "      <th>3</th>\n",
       "      <td>Adrián Colunga</td>\n",
       "      <td>adrian-colunga</td>\n",
       "      <td>Getafe CF</td>\n",
       "      <td>Spain</td>\n",
       "      <td>Center Forward</td>\n",
       "      <td>171.0</td>\n",
       "      <td>69.0</td>\n",
       "      <td>0</td>\n",
       "      <td>2</td>\n",
       "      <td>280</td>\n",
       "      <td>88</td>\n",
       "      <td>122</td>\n",
       "      <td>0.250</td>\n",
       "      <td>0</td>\n",
       "      <td>2</td>\n",
       "    </tr>\n",
       "    <tr>\n",
       "      <th>4</th>\n",
       "      <td>Aduriz</td>\n",
       "      <td>aduriz</td>\n",
       "      <td>Athletic Bilbao</td>\n",
       "      <td>Spain</td>\n",
       "      <td>Center Forward</td>\n",
       "      <td>182.0</td>\n",
       "      <td>78.0</td>\n",
       "      <td>8</td>\n",
       "      <td>4</td>\n",
       "      <td>500</td>\n",
       "      <td>206</td>\n",
       "      <td>174</td>\n",
       "      <td>0.250</td>\n",
       "      <td>0</td>\n",
       "      <td>12</td>\n",
       "    </tr>\n",
       "  </tbody>\n",
       "</table>\n",
       "</div>"
      ],
      "text/plain": [
       "            player     playerShort             club leagueCountry  \\\n",
       "0          Adriano      adriano_24     FC Barcelona         Spain   \n",
       "1           Adrián        adrian_2  Atlético Madrid         Spain   \n",
       "2           Adrián        adrian_7    SD Compostela         Spain   \n",
       "3   Adrián Colunga  adrian-colunga        Getafe CF         Spain   \n",
       "4           Aduriz          aduriz  Athletic Bilbao         Spain   \n",
       "\n",
       "          position  height  weight  redCards  yellowReds  games  victories  \\\n",
       "0  Left Midfielder   172.0    67.0         4           2    540        320   \n",
       "1   Center Forward   183.0    73.0         0           0    450        216   \n",
       "2       Goalkeeper   188.0    82.0         0           0     42         10   \n",
       "3   Center Forward   171.0    69.0         0           2    280         88   \n",
       "4   Center Forward   182.0    78.0         8           4    500        206   \n",
       "\n",
       "   defeats  avg_rate  dark  total_reds  \n",
       "0      132     0.250     0           6  \n",
       "1      136     0.125     0           0  \n",
       "2       10     0.250     0           0  \n",
       "3      122     0.250     0           2  \n",
       "4      174     0.250     0          12  "
      ]
     },
     "execution_count": 30,
     "metadata": {},
     "output_type": "execute_result"
    }
   ],
   "source": [
    "df_player.head()"
   ]
  },
  {
   "cell_type": "markdown",
   "metadata": {},
   "source": [
    "Scatterplot of height vs total number of redcards"
   ]
  },
  {
   "cell_type": "code",
   "execution_count": 31,
   "metadata": {},
   "outputs": [
    {
     "data": {
      "text/plain": [
       "Text(27.056829427083336, 0.5, 'total number of redcars for that player')"
      ]
     },
     "execution_count": 31,
     "metadata": {},
     "output_type": "execute_result"
    },
    {
     "data": {
      "image/png": "[encoded data removed]",
      "text/plain": [
       "<Figure size 402.375x360 with 1 Axes>"
      ]
     },
     "metadata": {
      "needs_background": "light"
     },
     "output_type": "display_data"
    }
   ],
   "source": [
    "sns.lmplot(x='height', y='total_reds', data=df_player, fit_reg=False, hue='dark')\n",
    "plt.xlabel('player height')\n",
    "plt.ylabel('total number of redcars for that player')"
   ]
  },
  {
   "cell_type": "code",
   "execution_count": 32,
   "metadata": {},
   "outputs": [
    {
     "data": {
      "text/plain": [
       "Text(27.056829427083336, 0.5, 'total number of redcars for that player')"
      ]
     },
     "execution_count": 32,
     "metadata": {},
     "output_type": "execute_result"
    },
    {
     "data": {
      "image/png": "[encoded data removed]",
      "text/plain": [
       "<Figure size 402.375x360 with 1 Axes>"
      ]
     },
     "metadata": {
      "needs_background": "light"
     },
     "output_type": "display_data"
    }
   ],
   "source": [
    "sns.lmplot(x='weight', y='total_reds', data=df_player, fit_reg=False, hue='dark')\n",
    "plt.xlabel('player weight')\n",
    "plt.ylabel('total number of redcars for that player')"
   ]
  },
  {
   "cell_type": "markdown",
   "metadata": {},
   "source": [
    "Plot total number of redcars vs total number of games played"
   ]
  },
  {
   "cell_type": "code",
   "execution_count": 33,
   "metadata": {},
   "outputs": [
    {
     "data": {
      "text/plain": [
       "Text(27.056829427083336, 0.5, 'total number of redcars for that player')"
      ]
     },
     "execution_count": 33,
     "metadata": {},
     "output_type": "execute_result"
    },
    {
     "data": {
      "image/png": "[encoded data removed]",
      "text/plain": [
       "<Figure size 402.375x360 with 1 Axes>"
      ]
     },
     "metadata": {
      "needs_background": "light"
     },
     "output_type": "display_data"
    }
   ],
   "source": [
    "sns.lmplot(x='games', y='total_reds', data=df_player, fit_reg=False, hue='dark')\n",
    "plt.xlabel('games played by that player')\n",
    "plt.ylabel('total number of redcars for that player')"
   ]
  },
  {
   "cell_type": "markdown",
   "metadata": {},
   "source": [
    "Interestingly, there are no dark skin-toned players with more than 600 games. It appears players that stay longer in the league are not as dark overall."
   ]
  },
  {
   "cell_type": "markdown",
   "metadata": {},
   "source": [
    "Create a variable 'red_yes' which is a binary variable that is 1 if the player has ever received a red card, and 0 if the player has not."
   ]
  },
  {
   "cell_type": "code",
   "execution_count": 35,
   "metadata": {},
   "outputs": [],
   "source": [
    "df_player['red_yes']=np.where(df_player.total_reds>0, 1,0)"
   ]
  },
  {
   "cell_type": "code",
   "execution_count": 38,
   "metadata": {},
   "outputs": [
    {
     "data": {
      "text/plain": [
       "Text(0, 0.5, 'frequency of players who did or did not get a red card')"
      ]
     },
     "execution_count": 38,
     "metadata": {},
     "output_type": "execute_result"
    },
    {
     "data": {
      "image/png": "[encoded data removed]",
      "text/plain": [
       "<Figure size 432x288 with 1 Axes>"
      ]
     },
     "metadata": {
      "needs_background": "light"
     },
     "output_type": "display_data"
    }
   ],
   "source": [
    "# Count Plot (a.k.a. Bar Plot)\n",
    "sns.countplot(x='red_yes', data=df_player) #counts up the frequency in each category\n",
    "plt.ylabel('frequency of players who did or did not get a red card') "
   ]
  },
  {
   "cell_type": "markdown",
   "metadata": {},
   "source": [
    "## Is the data balanced?"
   ]
  },
  {
   "cell_type": "markdown",
   "metadata": {},
   "source": [
    "are there equal numbers of light and dark players?"
   ]
  },
  {
   "cell_type": "code",
   "execution_count": 19,
   "metadata": {},
   "outputs": [],
   "source": [
    "df_group_dark=df_player.groupby('dark', as_index=False).count()"
   ]
  },
  {
   "cell_type": "code",
   "execution_count": 20,
   "metadata": {},
   "outputs": [
    {
     "data": {
      "text/plain": [
       "Text(0.5, 0, \"Skintone, 0='light', 1='dark'\")"
      ]
     },
     "execution_count": 20,
     "metadata": {},
     "output_type": "execute_result"
    },
    {
     "data": {
      "image/png": "[encoded data removed]",
      "text/plain": [
       "<Figure size 504x360 with 1 Axes>"
      ]
     },
     "metadata": {
      "needs_background": "light"
     },
     "output_type": "display_data"
    }
   ],
   "source": [
    "\n",
    "fig, ax1  = plt.subplots(1, 1, figsize=(7, 5), sharex=True)\n",
    "#fig.canvas.draw()\n",
    "sns.barplot(x=df_group_dark['dark'], y=df_group_dark['player'], palette=\"rocket\", ax=ax1)\n",
    "ax1.axhline(0, color=\"k\", clip_on=False)\n",
    "ax1.set_ylabel(\"Number of players\")\n",
    "ax1.set_xlabel(\"Skintone, 0='light', 1='dark'\")"
   ]
  },
  {
   "cell_type": "markdown",
   "metadata": {},
   "source": [
    "No, right away we see there are many more light skin-toned players."
   ]
  },
  {
   "cell_type": "markdown",
   "metadata": {},
   "source": [
    "What about the players who rerceive redcards? is there an equal distribution of those who do and do not receive them? or is it an equal split for the light and dark skin-tones?"
   ]
  },
  {
   "cell_type": "code",
   "execution_count": 37,
   "metadata": {},
   "outputs": [
    {
     "data": {
      "text/plain": [
       "<seaborn.axisgrid.FacetGrid at 0x7fa459645438>"
      ]
     },
     "execution_count": 37,
     "metadata": {},
     "output_type": "execute_result"
    },
    {
     "data": {
      "image/png": "[encoded data removed]",
      "text/plain": [
       "<Figure size 720x360 with 2 Axes>"
      ]
     },
     "metadata": {
      "needs_background": "light"
     },
     "output_type": "display_data"
    }
   ],
   "source": [
    "sns.catplot(\"red_yes\", col=\"dark\",data=df_player, kind=\"count\")"
   ]
  },
  {
   "cell_type": "markdown",
   "metadata": {},
   "source": [
    "When we simply say who did and did not receive a red card, it appears the split is approximately equal for the light and dark skin-tone players."
   ]
  },
  {
   "cell_type": "markdown",
   "metadata": {},
   "source": [
    "Is country of the soccer league important?"
   ]
  },
  {
   "cell_type": "code",
   "execution_count": 34,
   "metadata": {},
   "outputs": [
    {
     "name": "stderr",
     "output_type": "stream",
     "text": [
      "/home/natalie/anaconda3/envs/insight/lib/python3.6/site-packages/scipy/stats/stats.py:1713: FutureWarning: Using a non-tuple sequence for multidimensional indexing is deprecated; use `arr[tuple(seq)]` instead of `arr[seq]`. In the future this will be interpreted as an array index, `arr[np.array(seq)]`, which will result either in an error or a different result.\n",
      "  return np.add.reduce(sorted[indexer] * weights, axis=axis) / sumval\n"
     ]
    },
    {
     "data": {
      "text/plain": [
       "<seaborn.axisgrid.FacetGrid at 0x7fa4597485c0>"
      ]
     },
     "execution_count": 34,
     "metadata": {},
     "output_type": "execute_result"
    },
    {
     "data": {
      "image/png": "[encoded data removed]",
      "text/plain": [
       "<Figure size 474.375x432 with 1 Axes>"
      ]
     },
     "metadata": {
      "needs_background": "light"
     },
     "output_type": "display_data"
    }
   ],
   "source": [
    "# Draw a nested barplot to show survival for class and sex\n",
    "g = sns.catplot(x=\"leagueCountry\", y=\"total_reds\", hue=\"dark\", data=df_player,\n",
    "                height=6, kind=\"bar\", palette=\"muted\")\n",
    "g.despine(left=True)\n",
    "g.set_ylabels(\"number of redcards received\")"
   ]
  },
  {
   "cell_type": "markdown",
   "metadata": {},
   "source": [
    "It appears that the location of the league may have some impact on the number of redcards given to light and dark skin-toned players. Germany and England seem to have more of a bias towards giving red cards to dark skin-toned players."
   ]
  },
  {
   "cell_type": "markdown",
   "metadata": {},
   "source": [
    "# 3. Does a player's skin-tone affect wheather or not they receive a red card?\n",
    "\n",
    "Start with a simple Chi-square test to see if the yes/no redcard distributions of the light and dark skin-toned players are independent. If they are independent, then we would conclude that skin-tone does not affect the refs giving out redcars."
   ]
  },
  {
   "cell_type": "code",
   "execution_count": 46,
   "metadata": {},
   "outputs": [],
   "source": [
    "#Create a contingency table which simply sums up the yes/no tallies for the light and dark skin-toned players\n",
    "group_redyes=df_player.groupby(['red_yes', 'dark'], as_index=False)['player'].count()"
   ]
  },
  {
   "cell_type": "code",
   "execution_count": 53,
   "metadata": {},
   "outputs": [
    {
     "data": {
      "text/plain": [
       "<seaborn.axisgrid.FacetGrid at 0x7fa452766710>"
      ]
     },
     "execution_count": 53,
     "metadata": {},
     "output_type": "execute_result"
    },
    {
     "data": {
      "image/png": "[encoded data removed]",
      "text/plain": [
       "<Figure size 478.875x432 with 1 Axes>"
      ]
     },
     "metadata": {
      "needs_background": "light"
     },
     "output_type": "display_data"
    }
   ],
   "source": [
    "g = sns.catplot(x=\"dark\", y=\"player\", hue=\"red_yes\", data=group_redyes,\n",
    "                height=6, kind=\"bar\", palette=\"muted\")\n",
    "g.despine(left=True)\n",
    "g.set_ylabels(\"number of players\")"
   ]
  },
  {
   "cell_type": "markdown",
   "metadata": {},
   "source": [
    "This is showing that if a player had light skin-tone (0) or dark (1) the ratio between players who do and do not receive a red-card is approximately the same."
   ]
  },
  {
   "cell_type": "code",
   "execution_count": 49,
   "metadata": {},
   "outputs": [
    {
     "data": {
      "text/html": [
       "<div>\n",
       "<style scoped>\n",
       "    .dataframe tbody tr th:only-of-type {\n",
       "        vertical-align: middle;\n",
       "    }\n",
       "\n",
       "    .dataframe tbody tr th {\n",
       "        vertical-align: top;\n",
       "    }\n",
       "\n",
       "    .dataframe thead th {\n",
       "        text-align: right;\n",
       "    }\n",
       "</style>\n",
       "<table border=\"1\" class=\"dataframe\">\n",
       "  <thead>\n",
       "    <tr style=\"text-align: right;\">\n",
       "      <th>dark</th>\n",
       "      <th>False</th>\n",
       "      <th>True</th>\n",
       "    </tr>\n",
       "    <tr>\n",
       "      <th>red_yes</th>\n",
       "      <th></th>\n",
       "      <th></th>\n",
       "    </tr>\n",
       "  </thead>\n",
       "  <tbody>\n",
       "    <tr>\n",
       "      <th>False</th>\n",
       "      <td>609</td>\n",
       "      <td>43</td>\n",
       "    </tr>\n",
       "    <tr>\n",
       "      <th>True</th>\n",
       "      <td>694</td>\n",
       "      <td>69</td>\n",
       "    </tr>\n",
       "  </tbody>\n",
       "</table>\n",
       "</div>"
      ],
      "text/plain": [
       "dark     False  True \n",
       "red_yes              \n",
       "False      609     43\n",
       "True       694     69"
      ]
     },
     "execution_count": 49,
     "metadata": {},
     "output_type": "execute_result"
    }
   ],
   "source": [
    "c_tab=pd.crosstab(df_player.red_yes > 0, df_player.dark > 0)\n",
    "c_tab"
   ]
  },
  {
   "cell_type": "code",
   "execution_count": 50,
   "metadata": {},
   "outputs": [
    {
     "data": {
      "text/plain": [
       "(2.5648518623027297,\n",
       " 0.1092627921379188,\n",
       " 1,\n",
       " array([[600.39293286,  51.60706714],\n",
       "        [702.60706714,  60.39293286]]))"
      ]
     },
     "execution_count": 50,
     "metadata": {},
     "output_type": "execute_result"
    }
   ],
   "source": [
    "from scipy.stats import chi2_contingency\n",
    "chi2_contingency(c_tab)"
   ]
  },
  {
   "cell_type": "markdown",
   "metadata": {},
   "source": [
    "These results suggest that the p-value of 0.10 is not significant, and we would not reject the null hypothesis that whether or not a player received any redcards is independent of their skin-tone being light or dark. The p-value of 0.10 indicates there is an approximately 10% chance we would see this result due to random chance and not because of a specific trend in this data.\n",
    "\n",
    "The array from the chi-square output is the expected values if getting a red-card was independent of race. For the dark skin-toned column (column 2), this means we would expect 51 people to NOT get red-cards and 60 people to get redcars. In our observed data, we got 43 people who did NOT get red-cards, and 69 peopple who did. Thus, our observed data is not that far off from the idealized case, and we are not confident saying that our observed data deviates from the expected scenario when race does not matter.\n",
    "\n",
    "From this result, I would say \"NO race does not influence wheater or not a player gets any red-cards in his career\"."
   ]
  },
  {
   "cell_type": "markdown",
   "metadata": {},
   "source": [
    "If we wanted to get an idea of if a player is more likely to get more redcards (a higher number) if they are light or dark skined, we could run a t-test testing the difference between the 2 groups.\n",
    "This test assumes the number of redcards is approximately normally distributed for both groups, let's check."
   ]
  },
  {
   "cell_type": "code",
   "execution_count": 54,
   "metadata": {},
   "outputs": [
    {
     "data": {
      "text/plain": [
       "Text(0, 0.5, 'Frequency for light players')"
      ]
     },
     "execution_count": 54,
     "metadata": {},
     "output_type": "execute_result"
    },
    {
     "data": {
      "image/png": "[encoded data removed]",
      "text/plain": [
       "<Figure size 432x288 with 1 Axes>"
      ]
     },
     "metadata": {
      "needs_background": "light"
     },
     "output_type": "display_data"
    }
   ],
   "source": [
    "plt.hist(df_player['total_reds'][df_player.dark==0])\n",
    "plt.xlabel(\"number of red cards\")\n",
    "plt.ylabel(\"Frequency for light players\")"
   ]
  },
  {
   "cell_type": "code",
   "execution_count": 55,
   "metadata": {},
   "outputs": [
    {
     "data": {
      "text/plain": [
       "Text(0, 0.5, 'Frequency for dark players')"
      ]
     },
     "execution_count": 55,
     "metadata": {},
     "output_type": "execute_result"
    },
    {
     "data": {
      "image/png": "[encoded data removed]",
      "text/plain": [
       "<Figure size 432x288 with 1 Axes>"
      ]
     },
     "metadata": {
      "needs_background": "light"
     },
     "output_type": "display_data"
    }
   ],
   "source": [
    "plt.hist(df_player['total_reds'][df_player.dark==1])\n",
    "plt.xlabel(\"number of red cards\")\n",
    "plt.ylabel(\"Frequency for dark players\")"
   ]
  },
  {
   "cell_type": "markdown",
   "metadata": {},
   "source": [
    "Neither of these are normally distributed, and because we have 0 values a log-transformation will not work. Let's use a non-parametric test that is simmilar to the t-test, a Mann-whitney rank-sum test.\n",
    "\n",
    "The mann-whitney test is also fine to use on unbalanced data, which we have here.\n"
   ]
  },
  {
   "cell_type": "code",
   "execution_count": 57,
   "metadata": {},
   "outputs": [
    {
     "name": "stdout",
     "output_type": "stream",
     "text": [
      "Statistics=68377.500, p=0.119\n"
     ]
    }
   ],
   "source": [
    "from scipy.stats import mannwhitneyu\n",
    "\n",
    "light=df_player['total_reds'][df_player.dark==0]\n",
    "dark=df_player['total_reds'][df_player.dark==1]\n",
    "\n",
    "stat, p = mannwhitneyu(light, dark)\n",
    "print('Statistics=%.3f, p=%.3f' % (stat, p))"
   ]
  },
  {
   "cell_type": "markdown",
   "metadata": {},
   "source": [
    "Again, the p-value of 0.12 indicates there is no reason to reject the null hypothesis that these two groups (light and dark) have the same distriibution of number of red-cards received by a player.\n",
    "\n",
    "Thus, I would say that \"skin tone does not affect the total number of red-cards a player receives\"."
   ]
  },
  {
   "cell_type": "code",
   "execution_count": 58,
   "metadata": {},
   "outputs": [
    {
     "data": {
      "text/plain": [
       "<matplotlib.axes._subplots.AxesSubplot at 0x7fa45235da20>"
      ]
     },
     "execution_count": 58,
     "metadata": {},
     "output_type": "execute_result"
    },
    {
     "data": {
      "image/png": "[encoded data removed]",
      "text/plain": [
       "<Figure size 432x288 with 1 Axes>"
      ]
     },
     "metadata": {
      "needs_background": "light"
     },
     "output_type": "display_data"
    }
   ],
   "source": [
    "sns.boxplot(data=df_player, x='dark', y='total_reds')"
   ]
  },
  {
   "cell_type": "code",
   "execution_count": 60,
   "metadata": {},
   "outputs": [
    {
     "data": {
      "text/plain": [
       "<matplotlib.axes._subplots.AxesSubplot at 0x7fa4523a36d8>"
      ]
     },
     "execution_count": 60,
     "metadata": {},
     "output_type": "execute_result"
    },
    {
     "data": {
      "image/png": "[encoded data removed]",
      "text/plain": [
       "<Figure size 432x288 with 1 Axes>"
      ]
     },
     "metadata": {
      "needs_background": "light"
     },
     "output_type": "display_data"
    }
   ],
   "source": [
    "sns.boxplot(data=df_player, x='avg_rate', y='total_reds')"
   ]
  },
  {
   "cell_type": "markdown",
   "metadata": {},
   "source": [
    "This plot shows that the number of red-cards received by a player does not depend on light vs dark, and likewise a darker skin-tone rating of 1 does not have a higher number of red-cards than the lighter skin-tones."
   ]
  }
 ],
 "metadata": {
  "kernelspec": {
   "display_name": "Python [conda env:insight]",
   "language": "python",
   "name": "conda-env-insight-py"
  },
  "language_info": {
   "codemirror_mode": {
    "name": "ipython",
    "version": 3
   },
   "file_extension": ".py",
   "mimetype": "text/x-python",
   "name": "python",
   "nbconvert_exporter": "python",
   "pygments_lexer": "ipython3",
   "version": "3.6.6"
  }
 },
 "nbformat": 4,
 "nbformat_minor": 2
}
