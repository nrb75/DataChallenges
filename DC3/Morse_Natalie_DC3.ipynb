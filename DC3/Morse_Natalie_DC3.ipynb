{
 "cells": [
  {
   "cell_type": "markdown",
   "metadata": {},
   "source": [
    "# Employee Retention\n",
    "\n",
    "## Goal\n",
    "\n",
    "Employee turnover is a very costly problem for companies. The cost of replacing an employee if often larger than 100K USD, taking into account the time spent to interview and find a replacement, placement fees, sign-on bonuses and the loss of productivity for several months.\n",
    "\n",
    "It is only natural then that data science has started being applied to this area. Understanding why and when employees are most likely to leave can lead to actions to improve employee retention as well as planning new hiring in advance. This application of DS is sometimes called people analytics or people data science (if you see a job title: people data scientist, this is your job).\n",
    "\n",
    "\n",
    "In this challenge, you have a data set with info about the employees and have to predict when employees are going to quit by understanding the main drivers of employee churn.\n",
    "\n",
    "\n",
    "## Challenge Description\n",
    "\n",
    "We got employee data from a few companies. We have data about all employees who joined from 2011/01/24 to 2015/12/13. For each employee, we also know if they are still at the company as of 2015/12/13 or they have quit. Beside that, we have general info about the employee, such as average salary during her tenure, department, and years of experience.\n",
    "As said above, the goal is to predict employee retention and understand its main drivers\n",
    "\n",
    "\n",
    "## Hints:\n",
    "What are the main factors that drive employee churn? Do they make sense? Explain your findings.\n",
    "\n",
    "What might you be able to do for the company to address employee Churn, what would be follow-up actions?\n",
    "\n",
    "If you could add to this data set just one variable that could help explain employee churn, what would that be?\n",
    "\n",
    "Your output should be in the form a a jupyter notebook and pdf output of a jupyter notebook in which you specify your results and how you got them.\n",
    "\n",
    "## Data\n",
    "\n",
    "The table is:\n",
    "\n",
    "\"employee_retention\" - comprehensive information about employees.\n",
    "Columns:\n",
    "\n",
    "employee_id : id of the employee. Unique by employee per company \n",
    "\n",
    "company_id : company id. \n",
    "\n",
    "dept : employee department \n",
    "\n",
    "seniority : number of yrs of work experience when hired \n",
    "\n",
    "salary: average yearly salary of the employee during her tenure within the company \n",
    "\n",
    "join_date: when the employee joined the company, it can only be between 2011/01/24 and 2015/12/13 \n",
    "\n",
    "quit_date: when the employee left her job (if she is still employed as of 2015/12/13, this field is NA)\n"
   ]
  },
  {
   "cell_type": "code",
   "execution_count": 1,
   "metadata": {},
   "outputs": [],
   "source": [
    "import numpy as np\n",
    "import pandas as pd\n",
    "import matplotlib.pyplot as plt"
   ]
  },
  {
   "cell_type": "code",
   "execution_count": 2,
   "metadata": {},
   "outputs": [],
   "source": [
    "#import data\n",
    "df_emp=pd.read_csv('employee_retention.csv')"
   ]
  },
  {
   "cell_type": "code",
   "execution_count": 3,
   "metadata": {},
   "outputs": [
    {
     "data": {
      "text/html": [
       "<div>\n",
       "<style scoped>\n",
       "    .dataframe tbody tr th:only-of-type {\n",
       "        vertical-align: middle;\n",
       "    }\n",
       "\n",
       "    .dataframe tbody tr th {\n",
       "        vertical-align: top;\n",
       "    }\n",
       "\n",
       "    .dataframe thead th {\n",
       "        text-align: right;\n",
       "    }\n",
       "</style>\n",
       "<table border=\"1\" class=\"dataframe\">\n",
       "  <thead>\n",
       "    <tr style=\"text-align: right;\">\n",
       "      <th></th>\n",
       "      <th>Unnamed: 0</th>\n",
       "      <th>employee_id</th>\n",
       "      <th>company_id</th>\n",
       "      <th>dept</th>\n",
       "      <th>seniority</th>\n",
       "      <th>salary</th>\n",
       "      <th>join_date</th>\n",
       "      <th>quit_date</th>\n",
       "    </tr>\n",
       "  </thead>\n",
       "  <tbody>\n",
       "    <tr>\n",
       "      <th>0</th>\n",
       "      <td>0</td>\n",
       "      <td>1001444.0</td>\n",
       "      <td>8</td>\n",
       "      <td>temp_contractor</td>\n",
       "      <td>0</td>\n",
       "      <td>5850.0</td>\n",
       "      <td>2008-01-26</td>\n",
       "      <td>2008-04-25</td>\n",
       "    </tr>\n",
       "    <tr>\n",
       "      <th>1</th>\n",
       "      <td>1</td>\n",
       "      <td>388804.0</td>\n",
       "      <td>8</td>\n",
       "      <td>design</td>\n",
       "      <td>21</td>\n",
       "      <td>191000.0</td>\n",
       "      <td>05.17.2011</td>\n",
       "      <td>2012-03-16</td>\n",
       "    </tr>\n",
       "    <tr>\n",
       "      <th>2</th>\n",
       "      <td>2</td>\n",
       "      <td>407990.0</td>\n",
       "      <td>3</td>\n",
       "      <td>design</td>\n",
       "      <td>9</td>\n",
       "      <td>90000.0</td>\n",
       "      <td>2012-03-26</td>\n",
       "      <td>2015-04-10</td>\n",
       "    </tr>\n",
       "    <tr>\n",
       "      <th>3</th>\n",
       "      <td>3</td>\n",
       "      <td>120657.0</td>\n",
       "      <td>2</td>\n",
       "      <td>engineer</td>\n",
       "      <td>20</td>\n",
       "      <td>298000.0</td>\n",
       "      <td>2013-04-08</td>\n",
       "      <td>2015-01-30</td>\n",
       "    </tr>\n",
       "    <tr>\n",
       "      <th>4</th>\n",
       "      <td>4</td>\n",
       "      <td>1006393.0</td>\n",
       "      <td>1</td>\n",
       "      <td>temp_contractor</td>\n",
       "      <td>0</td>\n",
       "      <td>8509.0</td>\n",
       "      <td>2008-07-20</td>\n",
       "      <td>2008-10-18</td>\n",
       "    </tr>\n",
       "  </tbody>\n",
       "</table>\n",
       "</div>"
      ],
      "text/plain": [
       "   Unnamed: 0  employee_id  company_id             dept  seniority    salary  \\\n",
       "0           0    1001444.0           8  temp_contractor          0    5850.0   \n",
       "1           1     388804.0           8           design         21  191000.0   \n",
       "2           2     407990.0           3           design          9   90000.0   \n",
       "3           3     120657.0           2         engineer         20  298000.0   \n",
       "4           4    1006393.0           1  temp_contractor          0    8509.0   \n",
       "\n",
       "    join_date   quit_date  \n",
       "0  2008-01-26  2008-04-25  \n",
       "1  05.17.2011  2012-03-16  \n",
       "2  2012-03-26  2015-04-10  \n",
       "3  2013-04-08  2015-01-30  \n",
       "4  2008-07-20  2008-10-18  "
      ]
     },
     "execution_count": 3,
     "metadata": {},
     "output_type": "execute_result"
    }
   ],
   "source": [
    "df_emp.head()"
   ]
  },
  {
   "cell_type": "code",
   "execution_count": 4,
   "metadata": {},
   "outputs": [
    {
     "data": {
      "text/plain": [
       "array(['temp_contractor', 'design', 'engineer', 'marketing',\n",
       "       'customer_service', 'data_science', 'sales'], dtype=object)"
      ]
     },
     "execution_count": 4,
     "metadata": {},
     "output_type": "execute_result"
    }
   ],
   "source": [
    "df_emp.dept.unique()"
   ]
  },
  {
   "cell_type": "markdown",
   "metadata": {},
   "source": [
    "# 1. Start by cleaning and exploring the data"
   ]
  },
  {
   "cell_type": "markdown",
   "metadata": {},
   "source": [
    "Do we have any missing data?"
   ]
  },
  {
   "cell_type": "code",
   "execution_count": 5,
   "metadata": {},
   "outputs": [
    {
     "data": {
      "text/plain": [
       "Unnamed: 0     0.000000\n",
       "employee_id    0.000000\n",
       "company_id     0.000000\n",
       "dept           0.000000\n",
       "seniority      0.000000\n",
       "salary         0.006887\n",
       "join_date      0.000000\n",
       "quit_date      0.322517\n",
       "dtype: float64"
      ]
     },
     "execution_count": 5,
     "metadata": {},
     "output_type": "execute_result"
    }
   ],
   "source": [
    "na_list=df_emp.isna().sum()\n",
    "na_list/len(df_emp) # percentage"
   ]
  },
  {
   "cell_type": "markdown",
   "metadata": {},
   "source": [
    "Only the salary and quit date have NA values. The quit_dates with NA are those where employees are still employeed at that company. So, it appears 32% of employees are still employed.\n",
    "\n",
    "I will remove rows without salary information, as missing values will not work in our models.\n"
   ]
  },
  {
   "cell_type": "code",
   "execution_count": 6,
   "metadata": {},
   "outputs": [],
   "source": [
    "df_emp=df_emp.dropna(subset=['salary'])"
   ]
  },
  {
   "cell_type": "markdown",
   "metadata": {},
   "source": [
    "Are all the values in each column reasonable?"
   ]
  },
  {
   "cell_type": "code",
   "execution_count": 7,
   "metadata": {},
   "outputs": [
    {
     "data": {
      "text/html": [
       "<div>\n",
       "<style scoped>\n",
       "    .dataframe tbody tr th:only-of-type {\n",
       "        vertical-align: middle;\n",
       "    }\n",
       "\n",
       "    .dataframe tbody tr th {\n",
       "        vertical-align: top;\n",
       "    }\n",
       "\n",
       "    .dataframe thead th {\n",
       "        text-align: right;\n",
       "    }\n",
       "</style>\n",
       "<table border=\"1\" class=\"dataframe\">\n",
       "  <thead>\n",
       "    <tr style=\"text-align: right;\">\n",
       "      <th></th>\n",
       "      <th>Unnamed: 0</th>\n",
       "      <th>employee_id</th>\n",
       "      <th>company_id</th>\n",
       "      <th>seniority</th>\n",
       "      <th>salary</th>\n",
       "    </tr>\n",
       "  </thead>\n",
       "  <tbody>\n",
       "    <tr>\n",
       "      <th>count</th>\n",
       "      <td>34463.000000</td>\n",
       "      <td>3.446300e+04</td>\n",
       "      <td>34463.000000</td>\n",
       "      <td>34463.000000</td>\n",
       "      <td>34463.000000</td>\n",
       "    </tr>\n",
       "    <tr>\n",
       "      <th>mean</th>\n",
       "      <td>17344.623538</td>\n",
       "      <td>6.476900e+05</td>\n",
       "      <td>4.026840</td>\n",
       "      <td>10.031454</td>\n",
       "      <td>100280.585004</td>\n",
       "    </tr>\n",
       "    <tr>\n",
       "      <th>std</th>\n",
       "      <td>10019.116656</td>\n",
       "      <td>3.338294e+05</td>\n",
       "      <td>2.912295</td>\n",
       "      <td>9.359584</td>\n",
       "      <td>87322.502536</td>\n",
       "    </tr>\n",
       "    <tr>\n",
       "      <th>min</th>\n",
       "      <td>0.000000</td>\n",
       "      <td>3.600000e+01</td>\n",
       "      <td>1.000000</td>\n",
       "      <td>0.000000</td>\n",
       "      <td>5000.000000</td>\n",
       "    </tr>\n",
       "    <tr>\n",
       "      <th>25%</th>\n",
       "      <td>8662.500000</td>\n",
       "      <td>3.546315e+05</td>\n",
       "      <td>1.000000</td>\n",
       "      <td>0.000000</td>\n",
       "      <td>9302.000000</td>\n",
       "    </tr>\n",
       "    <tr>\n",
       "      <th>50%</th>\n",
       "      <td>17338.000000</td>\n",
       "      <td>7.081990e+05</td>\n",
       "      <td>3.000000</td>\n",
       "      <td>8.000000</td>\n",
       "      <td>88000.000000</td>\n",
       "    </tr>\n",
       "    <tr>\n",
       "      <th>75%</th>\n",
       "      <td>26020.500000</td>\n",
       "      <td>1.001384e+06</td>\n",
       "      <td>6.000000</td>\n",
       "      <td>18.000000</td>\n",
       "      <td>158000.000000</td>\n",
       "    </tr>\n",
       "    <tr>\n",
       "      <th>max</th>\n",
       "      <td>34701.000000</td>\n",
       "      <td>1.009999e+06</td>\n",
       "      <td>12.000000</td>\n",
       "      <td>99.000000</td>\n",
       "      <td>408000.000000</td>\n",
       "    </tr>\n",
       "  </tbody>\n",
       "</table>\n",
       "</div>"
      ],
      "text/plain": [
       "         Unnamed: 0   employee_id    company_id     seniority         salary\n",
       "count  34463.000000  3.446300e+04  34463.000000  34463.000000   34463.000000\n",
       "mean   17344.623538  6.476900e+05      4.026840     10.031454  100280.585004\n",
       "std    10019.116656  3.338294e+05      2.912295      9.359584   87322.502536\n",
       "min        0.000000  3.600000e+01      1.000000      0.000000    5000.000000\n",
       "25%     8662.500000  3.546315e+05      1.000000      0.000000    9302.000000\n",
       "50%    17338.000000  7.081990e+05      3.000000      8.000000   88000.000000\n",
       "75%    26020.500000  1.001384e+06      6.000000     18.000000  158000.000000\n",
       "max    34701.000000  1.009999e+06     12.000000     99.000000  408000.000000"
      ]
     },
     "execution_count": 7,
     "metadata": {},
     "output_type": "execute_result"
    }
   ],
   "source": [
    "df_emp.describe()"
   ]
  },
  {
   "cell_type": "markdown",
   "metadata": {},
   "source": [
    "They all seem reasonable, except where seniority is at the max of 99. This would mean that person had 99 years experience when they joined the company. Let's look at this column further."
   ]
  },
  {
   "cell_type": "code",
   "execution_count": 8,
   "metadata": {},
   "outputs": [
    {
     "data": {
      "text/html": [
       "<div>\n",
       "<style scoped>\n",
       "    .dataframe tbody tr th:only-of-type {\n",
       "        vertical-align: middle;\n",
       "    }\n",
       "\n",
       "    .dataframe tbody tr th {\n",
       "        vertical-align: top;\n",
       "    }\n",
       "\n",
       "    .dataframe thead th {\n",
       "        text-align: right;\n",
       "    }\n",
       "</style>\n",
       "<table border=\"1\" class=\"dataframe\">\n",
       "  <thead>\n",
       "    <tr style=\"text-align: right;\">\n",
       "      <th></th>\n",
       "      <th>Unnamed: 0</th>\n",
       "      <th>employee_id</th>\n",
       "      <th>company_id</th>\n",
       "      <th>dept</th>\n",
       "      <th>seniority</th>\n",
       "      <th>salary</th>\n",
       "      <th>join_date</th>\n",
       "      <th>quit_date</th>\n",
       "    </tr>\n",
       "  </thead>\n",
       "  <tbody>\n",
       "    <tr>\n",
       "      <th>23683</th>\n",
       "      <td>23683</td>\n",
       "      <td>97289.0</td>\n",
       "      <td>10</td>\n",
       "      <td>engineer</td>\n",
       "      <td>98</td>\n",
       "      <td>266000.0</td>\n",
       "      <td>2011-12-13</td>\n",
       "      <td>2015-01-09</td>\n",
       "    </tr>\n",
       "    <tr>\n",
       "      <th>26543</th>\n",
       "      <td>26543</td>\n",
       "      <td>604052.0</td>\n",
       "      <td>1</td>\n",
       "      <td>marketing</td>\n",
       "      <td>99</td>\n",
       "      <td>185000.0</td>\n",
       "      <td>2011-07-26</td>\n",
       "      <td>2013-12-06</td>\n",
       "    </tr>\n",
       "  </tbody>\n",
       "</table>\n",
       "</div>"
      ],
      "text/plain": [
       "       Unnamed: 0  employee_id  company_id       dept  seniority    salary  \\\n",
       "23683       23683      97289.0          10   engineer         98  266000.0   \n",
       "26543       26543     604052.0           1  marketing         99  185000.0   \n",
       "\n",
       "        join_date   quit_date  \n",
       "23683  2011-12-13  2015-01-09  \n",
       "26543  2011-07-26  2013-12-06  "
      ]
     },
     "execution_count": 8,
     "metadata": {},
     "output_type": "execute_result"
    }
   ],
   "source": [
    "#entries where experience in years is above 30\n",
    "df_emp[df_emp['seniority']>30]"
   ]
  },
  {
   "cell_type": "markdown",
   "metadata": {},
   "source": [
    "There are only 2 people with errouneous seniority, so we will remove these 2."
   ]
  },
  {
   "cell_type": "code",
   "execution_count": 9,
   "metadata": {},
   "outputs": [],
   "source": [
    "df_emp=df_emp[df_emp['seniority']<30]"
   ]
  },
  {
   "cell_type": "code",
   "execution_count": 10,
   "metadata": {},
   "outputs": [
    {
     "data": {
      "text/plain": [
       "Text(0, 0.5, 'Frequency')"
      ]
     },
     "execution_count": 10,
     "metadata": {},
     "output_type": "execute_result"
    },
    {
     "data": {
      "image/png": "[encoded data removed]",
      "text/plain": [
       "<Figure size 432x288 with 1 Axes>"
      ]
     },
     "metadata": {
      "needs_background": "light"
     },
     "output_type": "display_data"
    }
   ],
   "source": [
    "plt.hist(df_emp['seniority'])\n",
    "plt.xlabel(\"Years of Experience\")\n",
    "plt.ylabel(\"Frequency\")"
   ]
  },
  {
   "cell_type": "markdown",
   "metadata": {},
   "source": [
    "This dataset looks a bit unbalanced, with more ppl with less experience."
   ]
  },
  {
   "cell_type": "markdown",
   "metadata": {},
   "source": [
    "What about the join and quit date years, do these look correct?"
   ]
  },
  {
   "cell_type": "code",
   "execution_count": 11,
   "metadata": {},
   "outputs": [],
   "source": [
    "#need to convert timestamp column into actual timestamp, currently it is an object\n",
    "df_emp['join_date']=pd.to_datetime(df_emp['join_date'])\n",
    "df_emp['quit_date']=pd.to_datetime(df_emp['quit_date'])\n"
   ]
  },
  {
   "cell_type": "markdown",
   "metadata": {},
   "source": [
    "yes, the dates look fine"
   ]
  },
  {
   "cell_type": "code",
   "execution_count": 12,
   "metadata": {},
   "outputs": [],
   "source": [
    "#count how many people joined on each day\n",
    "group_join_day=df_emp.groupby('join_date', as_index=False)['employee_id'].count()"
   ]
  },
  {
   "cell_type": "code",
   "execution_count": 13,
   "metadata": {},
   "outputs": [
    {
     "data": {
      "image/png": "[encoded data removed]",
      "text/plain": [
       "<Figure size 432x288 with 1 Axes>"
      ]
     },
     "metadata": {
      "needs_background": "light"
     },
     "output_type": "display_data"
    }
   ],
   "source": [
    "from datetime import datetime\n",
    "import matplotlib.pyplot as plt\n",
    "from matplotlib.dates import DateFormatter\n",
    "\n",
    "fig, ax = plt.subplots()\n",
    "ax.plot(group_join_day['join_date'], group_join_day['employee_id'])\n",
    "myFmt = DateFormatter(\"%m-%y\")\n",
    "ax.xaxis_date()\n",
    "ax.xaxis.set_major_formatter(myFmt)\n",
    "\n",
    "## Rotate date labels automatically\n",
    "fig.autofmt_xdate()\n",
    "\n",
    "\n",
    "plt.ylabel('# of new employees joining')\n",
    "plt.xlabel('date')\n",
    "plt.title('Employees joining over time')\n",
    "plt.show()"
   ]
  },
  {
   "cell_type": "markdown",
   "metadata": {},
   "source": [
    "The problem statement says we are only concerned with dates beginning in 2011. I am not sure why we have dates going back to 2007, but I will remove these from the dataset as they also seem to have far less hires."
   ]
  },
  {
   "cell_type": "code",
   "execution_count": 14,
   "metadata": {},
   "outputs": [],
   "source": [
    "df_emp=df_emp[(df_emp['join_date']>'2011-01-24') & (df_emp['join_date']<'2015-12-13')]\n",
    "df_emp=df_emp[(df_emp['quit_date']>'2011-01-24') | (df_emp['quit_date'].isna())]"
   ]
  },
  {
   "cell_type": "code",
   "execution_count": 15,
   "metadata": {},
   "outputs": [
    {
     "name": "stdout",
     "output_type": "stream",
     "text": [
      "<class 'pandas.core.frame.DataFrame'>\n",
      "Int64Index: 24380 entries, 1 to 34701\n",
      "Data columns (total 8 columns):\n",
      "Unnamed: 0     24380 non-null int64\n",
      "employee_id    24380 non-null float64\n",
      "company_id     24380 non-null int64\n",
      "dept           24380 non-null object\n",
      "seniority      24380 non-null int64\n",
      "salary         24380 non-null float64\n",
      "join_date      24380 non-null datetime64[ns]\n",
      "quit_date      13296 non-null datetime64[ns]\n",
      "dtypes: datetime64[ns](2), float64(2), int64(3), object(1)\n",
      "memory usage: 1.7+ MB\n"
     ]
    }
   ],
   "source": [
    "df_emp.info()"
   ]
  },
  {
   "cell_type": "markdown",
   "metadata": {},
   "source": [
    "The dataset is now much smaller, at about 24,000 entries compared to 34,000 when we started."
   ]
  },
  {
   "cell_type": "code",
   "execution_count": 16,
   "metadata": {},
   "outputs": [
    {
     "data": {
      "image/png": "[encoded data removed]",
      "text/plain": [
       "<Figure size 432x288 with 1 Axes>"
      ]
     },
     "metadata": {
      "needs_background": "light"
     },
     "output_type": "display_data"
    }
   ],
   "source": [
    "#count how many people joined on each day\n",
    "group_join_day=df_emp.groupby('join_date', as_index=False)['employee_id'].count()\n",
    "\n",
    "fig, ax = plt.subplots()\n",
    "ax.plot(group_join_day['join_date'], group_join_day['employee_id'])\n",
    "myFmt = DateFormatter(\"%m-%y\")\n",
    "ax.xaxis_date()\n",
    "ax.xaxis.set_major_formatter(myFmt)\n",
    "\n",
    "## Rotate date labels automatically\n",
    "fig.autofmt_xdate()\n",
    "\n",
    "plt.ylabel('# of new employees joining each day')\n",
    "plt.xlabel('month-year')\n",
    "plt.title('Employees joining over time')\n",
    "plt.show()"
   ]
  },
  {
   "cell_type": "markdown",
   "metadata": {},
   "source": [
    "It looks like hiring has generally remained steady from 2011 to 2015."
   ]
  },
  {
   "cell_type": "markdown",
   "metadata": {},
   "source": [
    "# 2. Feature Engineering"
   ]
  },
  {
   "cell_type": "code",
   "execution_count": 17,
   "metadata": {},
   "outputs": [],
   "source": [
    "#Let's create a year and month column so we can group by these variables\n",
    "df_emp['join_month']=df_emp['join_date'].apply(lambda x: x.month)\n",
    "df_emp['quit_month']=df_emp['quit_date'].apply(lambda x: x.month)\n",
    "df_emp['join_year']=df_emp['join_date'].apply(lambda x: x.year)\n",
    "df_emp['quit_year']=df_emp['quit_date'].apply(lambda x: x.year)"
   ]
  },
  {
   "cell_type": "markdown",
   "metadata": {},
   "source": [
    "Create the quit or retained column \"retained\", if value=0 then that person quit, if value=1 then that person is still employeed with the company."
   ]
  },
  {
   "cell_type": "code",
   "execution_count": 18,
   "metadata": {},
   "outputs": [],
   "source": [
    "df_emp['retained']=np.where(df_emp['quit_date'].isna(), 1, 0)"
   ]
  },
  {
   "cell_type": "markdown",
   "metadata": {},
   "source": [
    "Create a total time on job column (diff between start and end date), if no end date then use the most recent date b/c that person is still employed."
   ]
  },
  {
   "cell_type": "code",
   "execution_count": 19,
   "metadata": {},
   "outputs": [
    {
     "data": {
      "text/plain": [
       "Timedelta('1671 days 00:00:00')"
      ]
     },
     "execution_count": 19,
     "metadata": {},
     "output_type": "execute_result"
    }
   ],
   "source": [
    "pd.to_datetime('2015-12-13')-df_emp['join_date'][1]"
   ]
  },
  {
   "cell_type": "code",
   "execution_count": 20,
   "metadata": {},
   "outputs": [],
   "source": [
    "df_emp['days_emp']=np.where(df_emp['quit_date'].notna(), (df_emp['quit_date']-df_emp['join_date']), (pd.to_datetime('2015-12-13')-df_emp['join_date']))\n",
    "df_emp['days_emp']=df_emp['days_emp'].apply(lambda x: x.days)"
   ]
  },
  {
   "cell_type": "markdown",
   "metadata": {},
   "source": [
    "Create feature: total days employee could have been employeed if they had not quit (b/c ppl joined at different times, a strict 'days' counter may not reflect their experience).\n",
    "This is the total number of days prior to 2015-12-13 (the most recent data), when that person was hired.\n",
    "So if the person was hired on 2015-11-13 this column would show '30' for 30 days."
   ]
  },
  {
   "cell_type": "code",
   "execution_count": 21,
   "metadata": {},
   "outputs": [],
   "source": [
    "df_emp['days_since_hire']=(pd.to_datetime('2015-12-13')-df_emp['join_date'])\n",
    "df_emp['days_since_hire']=df_emp['days_since_hire'].apply(lambda x: x.days)\n",
    "\n",
    "#percentage of actual days employeed / total days possible\n",
    "df_emp['percent_employed']=(df_emp['days_emp']/df_emp['days_since_hire'])*100"
   ]
  },
  {
   "cell_type": "code",
   "execution_count": 22,
   "metadata": {},
   "outputs": [
    {
     "data": {
      "text/html": [
       "<div>\n",
       "<style scoped>\n",
       "    .dataframe tbody tr th:only-of-type {\n",
       "        vertical-align: middle;\n",
       "    }\n",
       "\n",
       "    .dataframe tbody tr th {\n",
       "        vertical-align: top;\n",
       "    }\n",
       "\n",
       "    .dataframe thead th {\n",
       "        text-align: right;\n",
       "    }\n",
       "</style>\n",
       "<table border=\"1\" class=\"dataframe\">\n",
       "  <thead>\n",
       "    <tr style=\"text-align: right;\">\n",
       "      <th></th>\n",
       "      <th>Unnamed: 0</th>\n",
       "      <th>employee_id</th>\n",
       "      <th>company_id</th>\n",
       "      <th>dept</th>\n",
       "      <th>seniority</th>\n",
       "      <th>salary</th>\n",
       "      <th>join_date</th>\n",
       "      <th>quit_date</th>\n",
       "      <th>join_month</th>\n",
       "      <th>quit_month</th>\n",
       "      <th>join_year</th>\n",
       "      <th>quit_year</th>\n",
       "      <th>retained</th>\n",
       "      <th>days_emp</th>\n",
       "      <th>days_since_hire</th>\n",
       "      <th>percent_employed</th>\n",
       "    </tr>\n",
       "  </thead>\n",
       "  <tbody>\n",
       "    <tr>\n",
       "      <th>1</th>\n",
       "      <td>1</td>\n",
       "      <td>388804.0</td>\n",
       "      <td>8</td>\n",
       "      <td>design</td>\n",
       "      <td>21</td>\n",
       "      <td>191000.0</td>\n",
       "      <td>2011-05-17</td>\n",
       "      <td>2012-03-16</td>\n",
       "      <td>5</td>\n",
       "      <td>3.0</td>\n",
       "      <td>2011</td>\n",
       "      <td>2012.0</td>\n",
       "      <td>0</td>\n",
       "      <td>304</td>\n",
       "      <td>1671</td>\n",
       "      <td>18.192699</td>\n",
       "    </tr>\n",
       "    <tr>\n",
       "      <th>2</th>\n",
       "      <td>2</td>\n",
       "      <td>407990.0</td>\n",
       "      <td>3</td>\n",
       "      <td>design</td>\n",
       "      <td>9</td>\n",
       "      <td>90000.0</td>\n",
       "      <td>2012-03-26</td>\n",
       "      <td>2015-04-10</td>\n",
       "      <td>3</td>\n",
       "      <td>4.0</td>\n",
       "      <td>2012</td>\n",
       "      <td>2015.0</td>\n",
       "      <td>0</td>\n",
       "      <td>1110</td>\n",
       "      <td>1357</td>\n",
       "      <td>81.798084</td>\n",
       "    </tr>\n",
       "    <tr>\n",
       "      <th>3</th>\n",
       "      <td>3</td>\n",
       "      <td>120657.0</td>\n",
       "      <td>2</td>\n",
       "      <td>engineer</td>\n",
       "      <td>20</td>\n",
       "      <td>298000.0</td>\n",
       "      <td>2013-04-08</td>\n",
       "      <td>2015-01-30</td>\n",
       "      <td>4</td>\n",
       "      <td>1.0</td>\n",
       "      <td>2013</td>\n",
       "      <td>2015.0</td>\n",
       "      <td>0</td>\n",
       "      <td>662</td>\n",
       "      <td>979</td>\n",
       "      <td>67.620020</td>\n",
       "    </tr>\n",
       "    <tr>\n",
       "      <th>5</th>\n",
       "      <td>5</td>\n",
       "      <td>287530.0</td>\n",
       "      <td>5</td>\n",
       "      <td>marketing</td>\n",
       "      <td>20</td>\n",
       "      <td>180000.0</td>\n",
       "      <td>2014-06-30</td>\n",
       "      <td>NaT</td>\n",
       "      <td>6</td>\n",
       "      <td>NaN</td>\n",
       "      <td>2014</td>\n",
       "      <td>NaN</td>\n",
       "      <td>1</td>\n",
       "      <td>531</td>\n",
       "      <td>531</td>\n",
       "      <td>100.000000</td>\n",
       "    </tr>\n",
       "    <tr>\n",
       "      <th>6</th>\n",
       "      <td>6</td>\n",
       "      <td>561043.0</td>\n",
       "      <td>3</td>\n",
       "      <td>customer_service</td>\n",
       "      <td>18</td>\n",
       "      <td>119000.0</td>\n",
       "      <td>2012-07-02</td>\n",
       "      <td>2014-03-28</td>\n",
       "      <td>7</td>\n",
       "      <td>3.0</td>\n",
       "      <td>2012</td>\n",
       "      <td>2014.0</td>\n",
       "      <td>0</td>\n",
       "      <td>634</td>\n",
       "      <td>1259</td>\n",
       "      <td>50.357427</td>\n",
       "    </tr>\n",
       "  </tbody>\n",
       "</table>\n",
       "</div>"
      ],
      "text/plain": [
       "   Unnamed: 0  employee_id  company_id              dept  seniority    salary  \\\n",
       "1           1     388804.0           8            design         21  191000.0   \n",
       "2           2     407990.0           3            design          9   90000.0   \n",
       "3           3     120657.0           2          engineer         20  298000.0   \n",
       "5           5     287530.0           5         marketing         20  180000.0   \n",
       "6           6     561043.0           3  customer_service         18  119000.0   \n",
       "\n",
       "   join_date  quit_date  join_month  quit_month  join_year  quit_year  \\\n",
       "1 2011-05-17 2012-03-16           5         3.0       2011     2012.0   \n",
       "2 2012-03-26 2015-04-10           3         4.0       2012     2015.0   \n",
       "3 2013-04-08 2015-01-30           4         1.0       2013     2015.0   \n",
       "5 2014-06-30        NaT           6         NaN       2014        NaN   \n",
       "6 2012-07-02 2014-03-28           7         3.0       2012     2014.0   \n",
       "\n",
       "   retained  days_emp  days_since_hire  percent_employed  \n",
       "1         0       304             1671         18.192699  \n",
       "2         0      1110             1357         81.798084  \n",
       "3         0       662              979         67.620020  \n",
       "5         1       531              531        100.000000  \n",
       "6         0       634             1259         50.357427  "
      ]
     },
     "execution_count": 22,
     "metadata": {},
     "output_type": "execute_result"
    }
   ],
   "source": [
    "df_emp.head()"
   ]
  },
  {
   "cell_type": "code",
   "execution_count": 23,
   "metadata": {},
   "outputs": [
    {
     "data": {
      "text/plain": [
       "Text(0.5, 0, 'date employee joined')"
      ]
     },
     "execution_count": 23,
     "metadata": {},
     "output_type": "execute_result"
    },
    {
     "data": {
      "image/png": "[encoded data removed]",
      "text/plain": [
       "<Figure size 576x576 with 1 Axes>"
      ]
     },
     "metadata": {
      "needs_background": "light"
     },
     "output_type": "display_data"
    }
   ],
   "source": [
    "fig = plt.figure(figsize=(8,8))\n",
    "ax = fig.add_subplot(111)\n",
    "ax.plot_date(x=df_emp['join_date'], y=df_emp['days_emp'], marker='o')\n",
    "plt.ylabel('days employed')\n",
    "plt.xlabel('date employee joined')"
   ]
  },
  {
   "cell_type": "markdown",
   "metadata": {},
   "source": [
    "Interestingly, it appears anyone who joined after 2015 stayed with the company b/c the dots are all on the diagonal line for the max number of days that person could stay based on their starting date."
   ]
  },
  {
   "cell_type": "markdown",
   "metadata": {},
   "source": [
    "Can we create groups for seniority or salary levels to help us with our predictions?"
   ]
  },
  {
   "cell_type": "code",
   "execution_count": 24,
   "metadata": {},
   "outputs": [],
   "source": [
    "df_emp['group_seniority']=np.where(df_emp['seniority']<5, 'a. 0-4',\n",
    "                        np.where((df_emp['seniority']>=5) & (df_emp['seniority']<10), 'b. 5-9',\n",
    "                                np.where((df_emp['seniority']>=10) & (df_emp['seniority']<15), 'c. 10-14', \n",
    "                                        np.where((df_emp['seniority']>=15) & (df_emp['seniority']<20), 'd. 15-19',\n",
    "                                            np.where((df_emp['seniority']>=20) & (df_emp['seniority']<25), 'e. 20-24',\n",
    "                                                    np.where((df_emp['seniority']>=25) & (df_emp['seniority']<=30), 'f. 25-30', 'nope'))))))"
   ]
  },
  {
   "cell_type": "code",
   "execution_count": 25,
   "metadata": {},
   "outputs": [],
   "source": [
    "#divide salary groups into bins with equal number of results in each bin\n",
    "salarybins=pd.qcut(df_emp['salary'], 5, labels=['a. 17-70k', 'b. 70-105k', 'c. 105-145k', 'd. 145-203k', 'e. 203-408k']).astype(str)\n",
    "\n",
    "\n",
    "df_emp['group_salary']=salarybins"
   ]
  },
  {
   "cell_type": "code",
   "execution_count": 26,
   "metadata": {},
   "outputs": [],
   "source": [
    "#avg percent days employeed (100 = still employed)\n",
    "group_seniority_mean=df_emp.groupby('group_seniority', as_index=False)[['percent_employed', 'salary', 'retained']].mean()"
   ]
  },
  {
   "cell_type": "code",
   "execution_count": 27,
   "metadata": {},
   "outputs": [
    {
     "data": {
      "text/html": [
       "<div>\n",
       "<style scoped>\n",
       "    .dataframe tbody tr th:only-of-type {\n",
       "        vertical-align: middle;\n",
       "    }\n",
       "\n",
       "    .dataframe tbody tr th {\n",
       "        vertical-align: top;\n",
       "    }\n",
       "\n",
       "    .dataframe thead th {\n",
       "        text-align: right;\n",
       "    }\n",
       "</style>\n",
       "<table border=\"1\" class=\"dataframe\">\n",
       "  <thead>\n",
       "    <tr style=\"text-align: right;\">\n",
       "      <th></th>\n",
       "      <th>group_seniority</th>\n",
       "      <th>percent_employed</th>\n",
       "      <th>salary</th>\n",
       "      <th>retained</th>\n",
       "    </tr>\n",
       "  </thead>\n",
       "  <tbody>\n",
       "    <tr>\n",
       "      <th>0</th>\n",
       "      <td>a. 0-4</td>\n",
       "      <td>77.370136</td>\n",
       "      <td>45293.518256</td>\n",
       "      <td>0.499858</td>\n",
       "    </tr>\n",
       "    <tr>\n",
       "      <th>1</th>\n",
       "      <td>b. 5-9</td>\n",
       "      <td>72.958667</td>\n",
       "      <td>118891.868880</td>\n",
       "      <td>0.429332</td>\n",
       "    </tr>\n",
       "    <tr>\n",
       "      <th>2</th>\n",
       "      <td>c. 10-14</td>\n",
       "      <td>73.671700</td>\n",
       "      <td>117917.209909</td>\n",
       "      <td>0.437419</td>\n",
       "    </tr>\n",
       "    <tr>\n",
       "      <th>3</th>\n",
       "      <td>d. 15-19</td>\n",
       "      <td>75.148221</td>\n",
       "      <td>182704.826038</td>\n",
       "      <td>0.454994</td>\n",
       "    </tr>\n",
       "    <tr>\n",
       "      <th>4</th>\n",
       "      <td>e. 20-24</td>\n",
       "      <td>74.291338</td>\n",
       "      <td>181880.423554</td>\n",
       "      <td>0.451446</td>\n",
       "    </tr>\n",
       "    <tr>\n",
       "      <th>5</th>\n",
       "      <td>f. 25-30</td>\n",
       "      <td>75.174710</td>\n",
       "      <td>182899.689441</td>\n",
       "      <td>0.469876</td>\n",
       "    </tr>\n",
       "  </tbody>\n",
       "</table>\n",
       "</div>"
      ],
      "text/plain": [
       "  group_seniority  percent_employed         salary  retained\n",
       "0          a. 0-4         77.370136   45293.518256  0.499858\n",
       "1          b. 5-9         72.958667  118891.868880  0.429332\n",
       "2        c. 10-14         73.671700  117917.209909  0.437419\n",
       "3        d. 15-19         75.148221  182704.826038  0.454994\n",
       "4        e. 20-24         74.291338  181880.423554  0.451446\n",
       "5        f. 25-30         75.174710  182899.689441  0.469876"
      ]
     },
     "execution_count": 27,
     "metadata": {},
     "output_type": "execute_result"
    }
   ],
   "source": [
    "group_seniority_mean"
   ]
  },
  {
   "cell_type": "markdown",
   "metadata": {},
   "source": [
    "Overall, it looks like employees stay for a simmilar length of time (~74%) of their possible tenure, and retention rate is also simmilar across these groups (~45%) regardless of how many years experience they have.\n",
    "Let's see if that changes based on department and/or company\n"
   ]
  },
  {
   "cell_type": "code",
   "execution_count": 28,
   "metadata": {},
   "outputs": [
    {
     "data": {
      "text/html": [
       "<div>\n",
       "<style scoped>\n",
       "    .dataframe tbody tr th:only-of-type {\n",
       "        vertical-align: middle;\n",
       "    }\n",
       "\n",
       "    .dataframe tbody tr th {\n",
       "        vertical-align: top;\n",
       "    }\n",
       "\n",
       "    .dataframe thead th {\n",
       "        text-align: right;\n",
       "    }\n",
       "</style>\n",
       "<table border=\"1\" class=\"dataframe\">\n",
       "  <thead>\n",
       "    <tr style=\"text-align: right;\">\n",
       "      <th></th>\n",
       "      <th>group_seniority</th>\n",
       "      <th>company_id</th>\n",
       "      <th>dept</th>\n",
       "      <th>percent_employed</th>\n",
       "      <th>salary</th>\n",
       "      <th>retained</th>\n",
       "    </tr>\n",
       "  </thead>\n",
       "  <tbody>\n",
       "    <tr>\n",
       "      <th>0</th>\n",
       "      <td>a. 0-4</td>\n",
       "      <td>1</td>\n",
       "      <td>customer_service</td>\n",
       "      <td>78.179424</td>\n",
       "      <td>30091.836735</td>\n",
       "      <td>0.516327</td>\n",
       "    </tr>\n",
       "    <tr>\n",
       "      <th>1</th>\n",
       "      <td>a. 0-4</td>\n",
       "      <td>1</td>\n",
       "      <td>data_science</td>\n",
       "      <td>75.292654</td>\n",
       "      <td>74746.478873</td>\n",
       "      <td>0.408451</td>\n",
       "    </tr>\n",
       "    <tr>\n",
       "      <th>2</th>\n",
       "      <td>a. 0-4</td>\n",
       "      <td>1</td>\n",
       "      <td>design</td>\n",
       "      <td>87.582784</td>\n",
       "      <td>48984.848485</td>\n",
       "      <td>0.666667</td>\n",
       "    </tr>\n",
       "    <tr>\n",
       "      <th>3</th>\n",
       "      <td>a. 0-4</td>\n",
       "      <td>1</td>\n",
       "      <td>engineer</td>\n",
       "      <td>75.782993</td>\n",
       "      <td>74895.161290</td>\n",
       "      <td>0.500000</td>\n",
       "    </tr>\n",
       "    <tr>\n",
       "      <th>4</th>\n",
       "      <td>a. 0-4</td>\n",
       "      <td>1</td>\n",
       "      <td>marketing</td>\n",
       "      <td>75.920274</td>\n",
       "      <td>50525.000000</td>\n",
       "      <td>0.481250</td>\n",
       "    </tr>\n",
       "  </tbody>\n",
       "</table>\n",
       "</div>"
      ],
      "text/plain": [
       "  group_seniority  company_id              dept  percent_employed  \\\n",
       "0          a. 0-4           1  customer_service         78.179424   \n",
       "1          a. 0-4           1      data_science         75.292654   \n",
       "2          a. 0-4           1            design         87.582784   \n",
       "3          a. 0-4           1          engineer         75.782993   \n",
       "4          a. 0-4           1         marketing         75.920274   \n",
       "\n",
       "         salary  retained  \n",
       "0  30091.836735  0.516327  \n",
       "1  74746.478873  0.408451  \n",
       "2  48984.848485  0.666667  \n",
       "3  74895.161290  0.500000  \n",
       "4  50525.000000  0.481250  "
      ]
     },
     "execution_count": 28,
     "metadata": {},
     "output_type": "execute_result"
    }
   ],
   "source": [
    "group_seniority_mean_comp=df_emp.groupby(['group_seniority', 'company_id', 'dept'], as_index=False)[['percent_employed', 'salary', 'retained']].mean()\n",
    "group_seniority_mean_comp.head()"
   ]
  },
  {
   "cell_type": "code",
   "execution_count": 29,
   "metadata": {},
   "outputs": [
    {
     "name": "stderr",
     "output_type": "stream",
     "text": [
      "/home/natalie/anaconda3/envs/insight/lib/python3.6/site-packages/seaborn/categorical.py:3666: UserWarning: The `factorplot` function has been renamed to `catplot`. The original name will be removed in a future release. Please update your code. Note that the default `kind` in `factorplot` (`'point'`) has changed `'strip'` in `catplot`.\n",
      "  warnings.warn(msg)\n",
      "/home/natalie/anaconda3/envs/insight/lib/python3.6/site-packages/scipy/stats/stats.py:1713: FutureWarning: Using a non-tuple sequence for multidimensional indexing is deprecated; use `arr[tuple(seq)]` instead of `arr[seq]`. In the future this will be interpreted as an array index, `arr[np.array(seq)]`, which will result either in an error or a different result.\n",
      "  return np.add.reduce(sorted[indexer] * weights, axis=axis) / sumval\n"
     ]
    },
    {
     "data": {
      "text/plain": [
       "<seaborn.axisgrid.FacetGrid at 0x7faacf8f1940>"
      ]
     },
     "execution_count": 29,
     "metadata": {},
     "output_type": "execute_result"
    },
    {
     "data": {
      "image/png": "[encoded data removed]",
      "text/plain": [
       "<Figure size 1093.5x504 with 1 Axes>"
      ]
     },
     "metadata": {
      "needs_background": "light"
     },
     "output_type": "display_data"
    }
   ],
   "source": [
    "import seaborn as sns\n",
    "sns.factorplot(x='dept', y='retained', hue='group_seniority', data=group_seniority_mean_comp, kind='bar', height=7, aspect=2)\n",
    "#order=[\"0-4\", \"5-9\", \"10-14\", \"15-19\", \"20-24\", \"25-30\"]"
   ]
  },
  {
   "cell_type": "markdown",
   "metadata": {},
   "source": [
    "Overall, when we look at how retention rates are affected by department and the level of seniority, there is a lot of variability. Interestingly, the 0-4 year seniority group has consistently higher retention rates than the other groups. Dispelling the myth that early career goers want to jump ship."
   ]
  },
  {
   "cell_type": "code",
   "execution_count": 30,
   "metadata": {},
   "outputs": [
    {
     "data": {
      "image/png": "[encoded data removed]",
      "text/plain": [
       "<Figure size 3024x504 with 6 Axes>"
      ]
     },
     "metadata": {},
     "output_type": "display_data"
    }
   ],
   "source": [
    "#example with 1 company\n",
    "sns.set(font_scale=2)\n",
    "\n",
    "g = sns.FacetGrid(group_seniority_mean_comp[group_seniority_mean_comp['company_id']==1], col = \"dept\", margin_titles=True, height=7, aspect=1)\n",
    "g=(g.map(plt.bar, \"group_seniority\", \"retained\"))\n",
    "#g.map(plt.scatter, x='group_seniority', y='retained')\n"
   ]
  },
  {
   "cell_type": "markdown",
   "metadata": {},
   "source": [
    "### Plot overall counts of employees who stayed (retained=1) vs those who left (retained=0) based on how much seniority they had when they joined the company."
   ]
  },
  {
   "cell_type": "code",
   "execution_count": 31,
   "metadata": {},
   "outputs": [
    {
     "data": {
      "text/plain": [
       "<seaborn.axisgrid.FacetGrid at 0x7faacf1def60>"
      ]
     },
     "execution_count": 31,
     "metadata": {},
     "output_type": "execute_result"
    },
    {
     "data": {
      "image/png": "[encoded data removed]",
      "text/plain": [
       "<Figure size 1440x720 with 6 Axes>"
      ]
     },
     "metadata": {},
     "output_type": "display_data"
    }
   ],
   "source": [
    "sns.catplot(\"retained\", col=\"group_seniority\", col_wrap=4,\n",
    "data=df_emp, kind=\"count\")"
   ]
  },
  {
   "cell_type": "markdown",
   "metadata": {},
   "source": [
    "It appears you will always have more people leaving than staying, but the group with the most even number of ppl staying and laving is the low seniority group 0-4 years. This dispells the myth that early career goers are looking to jump ship quickly."
   ]
  },
  {
   "cell_type": "markdown",
   "metadata": {},
   "source": [
    "### Plot counts of stayed vs left depending on the salary they were hired in at"
   ]
  },
  {
   "cell_type": "code",
   "execution_count": 32,
   "metadata": {},
   "outputs": [
    {
     "data": {
      "text/plain": [
       "<seaborn.axisgrid.FacetGrid at 0x7faad57248d0>"
      ]
     },
     "execution_count": 32,
     "metadata": {},
     "output_type": "execute_result"
    },
    {
     "data": {
      "image/png": "[encoded data removed]",
      "text/plain": [
       "<Figure size 1440x720 with 5 Axes>"
      ]
     },
     "metadata": {},
     "output_type": "display_data"
    }
   ],
   "source": [
    "#salary groups and retention rate\n",
    "sns.set(font_scale=2)\n",
    "sns.catplot(\"retained\", col=\"group_salary\", col_wrap=4,\n",
    "data=df_emp, kind=\"count\")"
   ]
  },
  {
   "cell_type": "markdown",
   "metadata": {},
   "source": [
    "Interestingly, the only group where the # of employees retained is greater than those who leave is the highest paying group the $205,000-$400,000 group"
   ]
  },
  {
   "cell_type": "markdown",
   "metadata": {},
   "source": [
    "# 3. Predict Who will Churn"
   ]
  },
  {
   "cell_type": "code",
   "execution_count": 33,
   "metadata": {},
   "outputs": [
    {
     "data": {
      "text/html": [
       "<div>\n",
       "<style scoped>\n",
       "    .dataframe tbody tr th:only-of-type {\n",
       "        vertical-align: middle;\n",
       "    }\n",
       "\n",
       "    .dataframe tbody tr th {\n",
       "        vertical-align: top;\n",
       "    }\n",
       "\n",
       "    .dataframe thead th {\n",
       "        text-align: right;\n",
       "    }\n",
       "</style>\n",
       "<table border=\"1\" class=\"dataframe\">\n",
       "  <thead>\n",
       "    <tr style=\"text-align: right;\">\n",
       "      <th></th>\n",
       "      <th>Unnamed: 0</th>\n",
       "      <th>employee_id</th>\n",
       "      <th>company_id</th>\n",
       "      <th>dept</th>\n",
       "      <th>seniority</th>\n",
       "      <th>salary</th>\n",
       "      <th>join_date</th>\n",
       "      <th>quit_date</th>\n",
       "      <th>join_month</th>\n",
       "      <th>quit_month</th>\n",
       "      <th>join_year</th>\n",
       "      <th>quit_year</th>\n",
       "      <th>retained</th>\n",
       "      <th>days_emp</th>\n",
       "      <th>days_since_hire</th>\n",
       "      <th>percent_employed</th>\n",
       "      <th>group_seniority</th>\n",
       "      <th>group_salary</th>\n",
       "    </tr>\n",
       "  </thead>\n",
       "  <tbody>\n",
       "    <tr>\n",
       "      <th>1</th>\n",
       "      <td>1</td>\n",
       "      <td>388804.0</td>\n",
       "      <td>8</td>\n",
       "      <td>design</td>\n",
       "      <td>21</td>\n",
       "      <td>191000.0</td>\n",
       "      <td>2011-05-17</td>\n",
       "      <td>2012-03-16</td>\n",
       "      <td>5</td>\n",
       "      <td>3.0</td>\n",
       "      <td>2011</td>\n",
       "      <td>2012.0</td>\n",
       "      <td>0</td>\n",
       "      <td>304</td>\n",
       "      <td>1671</td>\n",
       "      <td>18.192699</td>\n",
       "      <td>e. 20-24</td>\n",
       "      <td>d. 145-203k</td>\n",
       "    </tr>\n",
       "    <tr>\n",
       "      <th>2</th>\n",
       "      <td>2</td>\n",
       "      <td>407990.0</td>\n",
       "      <td>3</td>\n",
       "      <td>design</td>\n",
       "      <td>9</td>\n",
       "      <td>90000.0</td>\n",
       "      <td>2012-03-26</td>\n",
       "      <td>2015-04-10</td>\n",
       "      <td>3</td>\n",
       "      <td>4.0</td>\n",
       "      <td>2012</td>\n",
       "      <td>2015.0</td>\n",
       "      <td>0</td>\n",
       "      <td>1110</td>\n",
       "      <td>1357</td>\n",
       "      <td>81.798084</td>\n",
       "      <td>b. 5-9</td>\n",
       "      <td>b. 70-105k</td>\n",
       "    </tr>\n",
       "    <tr>\n",
       "      <th>3</th>\n",
       "      <td>3</td>\n",
       "      <td>120657.0</td>\n",
       "      <td>2</td>\n",
       "      <td>engineer</td>\n",
       "      <td>20</td>\n",
       "      <td>298000.0</td>\n",
       "      <td>2013-04-08</td>\n",
       "      <td>2015-01-30</td>\n",
       "      <td>4</td>\n",
       "      <td>1.0</td>\n",
       "      <td>2013</td>\n",
       "      <td>2015.0</td>\n",
       "      <td>0</td>\n",
       "      <td>662</td>\n",
       "      <td>979</td>\n",
       "      <td>67.620020</td>\n",
       "      <td>e. 20-24</td>\n",
       "      <td>e. 203-408k</td>\n",
       "    </tr>\n",
       "    <tr>\n",
       "      <th>5</th>\n",
       "      <td>5</td>\n",
       "      <td>287530.0</td>\n",
       "      <td>5</td>\n",
       "      <td>marketing</td>\n",
       "      <td>20</td>\n",
       "      <td>180000.0</td>\n",
       "      <td>2014-06-30</td>\n",
       "      <td>NaT</td>\n",
       "      <td>6</td>\n",
       "      <td>NaN</td>\n",
       "      <td>2014</td>\n",
       "      <td>NaN</td>\n",
       "      <td>1</td>\n",
       "      <td>531</td>\n",
       "      <td>531</td>\n",
       "      <td>100.000000</td>\n",
       "      <td>e. 20-24</td>\n",
       "      <td>d. 145-203k</td>\n",
       "    </tr>\n",
       "    <tr>\n",
       "      <th>6</th>\n",
       "      <td>6</td>\n",
       "      <td>561043.0</td>\n",
       "      <td>3</td>\n",
       "      <td>customer_service</td>\n",
       "      <td>18</td>\n",
       "      <td>119000.0</td>\n",
       "      <td>2012-07-02</td>\n",
       "      <td>2014-03-28</td>\n",
       "      <td>7</td>\n",
       "      <td>3.0</td>\n",
       "      <td>2012</td>\n",
       "      <td>2014.0</td>\n",
       "      <td>0</td>\n",
       "      <td>634</td>\n",
       "      <td>1259</td>\n",
       "      <td>50.357427</td>\n",
       "      <td>d. 15-19</td>\n",
       "      <td>c. 105-145k</td>\n",
       "    </tr>\n",
       "  </tbody>\n",
       "</table>\n",
       "</div>"
      ],
      "text/plain": [
       "   Unnamed: 0  employee_id  company_id              dept  seniority    salary  \\\n",
       "1           1     388804.0           8            design         21  191000.0   \n",
       "2           2     407990.0           3            design          9   90000.0   \n",
       "3           3     120657.0           2          engineer         20  298000.0   \n",
       "5           5     287530.0           5         marketing         20  180000.0   \n",
       "6           6     561043.0           3  customer_service         18  119000.0   \n",
       "\n",
       "   join_date  quit_date  join_month  quit_month  join_year  quit_year  \\\n",
       "1 2011-05-17 2012-03-16           5         3.0       2011     2012.0   \n",
       "2 2012-03-26 2015-04-10           3         4.0       2012     2015.0   \n",
       "3 2013-04-08 2015-01-30           4         1.0       2013     2015.0   \n",
       "5 2014-06-30        NaT           6         NaN       2014        NaN   \n",
       "6 2012-07-02 2014-03-28           7         3.0       2012     2014.0   \n",
       "\n",
       "   retained  days_emp  days_since_hire  percent_employed group_seniority  \\\n",
       "1         0       304             1671         18.192699        e. 20-24   \n",
       "2         0      1110             1357         81.798084          b. 5-9   \n",
       "3         0       662              979         67.620020        e. 20-24   \n",
       "5         1       531              531        100.000000        e. 20-24   \n",
       "6         0       634             1259         50.357427        d. 15-19   \n",
       "\n",
       "  group_salary  \n",
       "1  d. 145-203k  \n",
       "2   b. 70-105k  \n",
       "3  e. 203-408k  \n",
       "5  d. 145-203k  \n",
       "6  c. 105-145k  "
      ]
     },
     "execution_count": 33,
     "metadata": {},
     "output_type": "execute_result"
    }
   ],
   "source": [
    "df_emp.head()"
   ]
  },
  {
   "cell_type": "markdown",
   "metadata": {},
   "source": [
    "### Start with logistic regression"
   ]
  },
  {
   "cell_type": "code",
   "execution_count": 34,
   "metadata": {},
   "outputs": [
    {
     "name": "stderr",
     "output_type": "stream",
     "text": [
      "/home/natalie/anaconda3/envs/insight/lib/python3.6/site-packages/sklearn/cross_validation.py:41: DeprecationWarning: This module was deprecated in version 0.18 in favor of the model_selection module into which all the refactored classes and functions are moved. Also note that the interface of the new CV iterators are different from that of this module. This module will be removed in 0.20.\n",
      "  \"This module will be removed in 0.20.\", DeprecationWarning)\n"
     ]
    }
   ],
   "source": [
    "## Use logistic regression and see if we can predict if the employee stays or leaves\n",
    "\n",
    "from sklearn.linear_model import LogisticRegression\n",
    "from sklearn.cross_validation import train_test_split\n",
    "# Use StandardScaler to help you standardize the dataset’s features onto unit scale (mean = 0 and variance = 1) \n",
    "from sklearn.preprocessing import StandardScaler\n",
    "from sklearn.preprocessing import OneHotEncoder"
   ]
  },
  {
   "cell_type": "raw",
   "metadata": {},
   "source": [
    "### logistic regression requires only numeric data, no categories or NAs, therefore we have to convert the data. We have a few options:\n",
    "\n",
    "1. one-hot encode the categorical variables into dummy variables"
   ]
  },
  {
   "cell_type": "code",
   "execution_count": null,
   "metadata": {},
   "outputs": [],
   "source": []
  },
  {
   "cell_type": "code",
   "execution_count": 59,
   "metadata": {},
   "outputs": [
    {
     "name": "stderr",
     "output_type": "stream",
     "text": [
      "/home/natalie/anaconda3/envs/insight/lib/python3.6/site-packages/ipykernel/__main__.py:9: SettingWithCopyWarning: \n",
      "A value is trying to be set on a copy of a slice from a DataFrame.\n",
      "Try using .loc[row_indexer,col_indexer] = value instead\n",
      "\n",
      "See the caveats in the documentation: http://pandas.pydata.org/pandas-docs/stable/indexing.html#indexing-view-versus-copy\n"
     ]
    }
   ],
   "source": [
    "#split up depedent and indepdent variables\n",
    "X = df_emp.drop(['Unnamed: 0', 'days_emp', 'employee_id', 'retained', 'quit_month', 'quit_year', 'quit_date', 'company_id', 'dept', 'group_seniority', 'group_salary', 'join_date', 'percent_employed'], axis=1)#independent variables\n",
    "#cant include percent employeed b/c this is the same thing almost as retained yes/no\n",
    "Xordinal=df_emp[['company_id', 'dept', 'group_seniority', 'group_salary']]\n",
    "\n",
    "Y=df_emp['retained'] #target variable\n",
    "#company_id is numeric, but the values 1-12 do not represent anything, so we want to make a new column with the company_id as a factor\n",
    "\n",
    "Xordinal['company_id']=Xordinal['company_id'].map({1: 'a', 2: 'b', 3:'c', 4:'d', 5:'e', 6:'f', 7:'g', 8:'h', 9:'i', 10:'j', 11:'k', 12:'l'})\n",
    "#enc = OneHotEncoder(handle_unknown='ignore')\n",
    "Xonehot=pd.get_dummies(Xordinal)\n"
   ]
  },
  {
   "cell_type": "code",
   "execution_count": 60,
   "metadata": {},
   "outputs": [
    {
     "data": {
      "text/html": [
       "<div>\n",
       "<style scoped>\n",
       "    .dataframe tbody tr th:only-of-type {\n",
       "        vertical-align: middle;\n",
       "    }\n",
       "\n",
       "    .dataframe tbody tr th {\n",
       "        vertical-align: top;\n",
       "    }\n",
       "\n",
       "    .dataframe thead th {\n",
       "        text-align: right;\n",
       "    }\n",
       "</style>\n",
       "<table border=\"1\" class=\"dataframe\">\n",
       "  <thead>\n",
       "    <tr style=\"text-align: right;\">\n",
       "      <th></th>\n",
       "      <th>seniority</th>\n",
       "      <th>salary</th>\n",
       "      <th>join_month</th>\n",
       "      <th>join_year</th>\n",
       "      <th>days_since_hire</th>\n",
       "      <th>company_id_a</th>\n",
       "      <th>company_id_b</th>\n",
       "      <th>company_id_c</th>\n",
       "      <th>company_id_d</th>\n",
       "      <th>company_id_e</th>\n",
       "      <th>...</th>\n",
       "      <th>group_seniority_b. 5-9</th>\n",
       "      <th>group_seniority_c. 10-14</th>\n",
       "      <th>group_seniority_d. 15-19</th>\n",
       "      <th>group_seniority_e. 20-24</th>\n",
       "      <th>group_seniority_f. 25-30</th>\n",
       "      <th>group_salary_a. 17-70k</th>\n",
       "      <th>group_salary_b. 70-105k</th>\n",
       "      <th>group_salary_c. 105-145k</th>\n",
       "      <th>group_salary_d. 145-203k</th>\n",
       "      <th>group_salary_e. 203-408k</th>\n",
       "    </tr>\n",
       "  </thead>\n",
       "  <tbody>\n",
       "    <tr>\n",
       "      <th>1</th>\n",
       "      <td>21</td>\n",
       "      <td>191000.0</td>\n",
       "      <td>5</td>\n",
       "      <td>2011</td>\n",
       "      <td>1671</td>\n",
       "      <td>0</td>\n",
       "      <td>0</td>\n",
       "      <td>0</td>\n",
       "      <td>0</td>\n",
       "      <td>0</td>\n",
       "      <td>...</td>\n",
       "      <td>0</td>\n",
       "      <td>0</td>\n",
       "      <td>0</td>\n",
       "      <td>1</td>\n",
       "      <td>0</td>\n",
       "      <td>0</td>\n",
       "      <td>0</td>\n",
       "      <td>0</td>\n",
       "      <td>1</td>\n",
       "      <td>0</td>\n",
       "    </tr>\n",
       "    <tr>\n",
       "      <th>2</th>\n",
       "      <td>9</td>\n",
       "      <td>90000.0</td>\n",
       "      <td>3</td>\n",
       "      <td>2012</td>\n",
       "      <td>1357</td>\n",
       "      <td>0</td>\n",
       "      <td>0</td>\n",
       "      <td>1</td>\n",
       "      <td>0</td>\n",
       "      <td>0</td>\n",
       "      <td>...</td>\n",
       "      <td>1</td>\n",
       "      <td>0</td>\n",
       "      <td>0</td>\n",
       "      <td>0</td>\n",
       "      <td>0</td>\n",
       "      <td>0</td>\n",
       "      <td>1</td>\n",
       "      <td>0</td>\n",
       "      <td>0</td>\n",
       "      <td>0</td>\n",
       "    </tr>\n",
       "    <tr>\n",
       "      <th>3</th>\n",
       "      <td>20</td>\n",
       "      <td>298000.0</td>\n",
       "      <td>4</td>\n",
       "      <td>2013</td>\n",
       "      <td>979</td>\n",
       "      <td>0</td>\n",
       "      <td>1</td>\n",
       "      <td>0</td>\n",
       "      <td>0</td>\n",
       "      <td>0</td>\n",
       "      <td>...</td>\n",
       "      <td>0</td>\n",
       "      <td>0</td>\n",
       "      <td>0</td>\n",
       "      <td>1</td>\n",
       "      <td>0</td>\n",
       "      <td>0</td>\n",
       "      <td>0</td>\n",
       "      <td>0</td>\n",
       "      <td>0</td>\n",
       "      <td>1</td>\n",
       "    </tr>\n",
       "    <tr>\n",
       "      <th>5</th>\n",
       "      <td>20</td>\n",
       "      <td>180000.0</td>\n",
       "      <td>6</td>\n",
       "      <td>2014</td>\n",
       "      <td>531</td>\n",
       "      <td>0</td>\n",
       "      <td>0</td>\n",
       "      <td>0</td>\n",
       "      <td>0</td>\n",
       "      <td>1</td>\n",
       "      <td>...</td>\n",
       "      <td>0</td>\n",
       "      <td>0</td>\n",
       "      <td>0</td>\n",
       "      <td>1</td>\n",
       "      <td>0</td>\n",
       "      <td>0</td>\n",
       "      <td>0</td>\n",
       "      <td>0</td>\n",
       "      <td>1</td>\n",
       "      <td>0</td>\n",
       "    </tr>\n",
       "    <tr>\n",
       "      <th>6</th>\n",
       "      <td>18</td>\n",
       "      <td>119000.0</td>\n",
       "      <td>7</td>\n",
       "      <td>2012</td>\n",
       "      <td>1259</td>\n",
       "      <td>0</td>\n",
       "      <td>0</td>\n",
       "      <td>1</td>\n",
       "      <td>0</td>\n",
       "      <td>0</td>\n",
       "      <td>...</td>\n",
       "      <td>0</td>\n",
       "      <td>0</td>\n",
       "      <td>1</td>\n",
       "      <td>0</td>\n",
       "      <td>0</td>\n",
       "      <td>0</td>\n",
       "      <td>0</td>\n",
       "      <td>1</td>\n",
       "      <td>0</td>\n",
       "      <td>0</td>\n",
       "    </tr>\n",
       "  </tbody>\n",
       "</table>\n",
       "<p>5 rows × 34 columns</p>\n",
       "</div>"
      ],
      "text/plain": [
       "   seniority    salary  join_month  join_year  days_since_hire  company_id_a  \\\n",
       "1         21  191000.0           5       2011             1671             0   \n",
       "2          9   90000.0           3       2012             1357             0   \n",
       "3         20  298000.0           4       2013              979             0   \n",
       "5         20  180000.0           6       2014              531             0   \n",
       "6         18  119000.0           7       2012             1259             0   \n",
       "\n",
       "   company_id_b  company_id_c  company_id_d  company_id_e  \\\n",
       "1             0             0             0             0   \n",
       "2             0             1             0             0   \n",
       "3             1             0             0             0   \n",
       "5             0             0             0             1   \n",
       "6             0             1             0             0   \n",
       "\n",
       "             ...             group_seniority_b. 5-9  group_seniority_c. 10-14  \\\n",
       "1            ...                                  0                         0   \n",
       "2            ...                                  1                         0   \n",
       "3            ...                                  0                         0   \n",
       "5            ...                                  0                         0   \n",
       "6            ...                                  0                         0   \n",
       "\n",
       "   group_seniority_d. 15-19  group_seniority_e. 20-24  \\\n",
       "1                         0                         1   \n",
       "2                         0                         0   \n",
       "3                         0                         1   \n",
       "5                         0                         1   \n",
       "6                         1                         0   \n",
       "\n",
       "   group_seniority_f. 25-30  group_salary_a. 17-70k  group_salary_b. 70-105k  \\\n",
       "1                         0                       0                        0   \n",
       "2                         0                       0                        1   \n",
       "3                         0                       0                        0   \n",
       "5                         0                       0                        0   \n",
       "6                         0                       0                        0   \n",
       "\n",
       "   group_salary_c. 105-145k  group_salary_d. 145-203k  \\\n",
       "1                         0                         1   \n",
       "2                         0                         0   \n",
       "3                         0                         0   \n",
       "5                         0                         1   \n",
       "6                         1                         0   \n",
       "\n",
       "   group_salary_e. 203-408k  \n",
       "1                         0  \n",
       "2                         0  \n",
       "3                         1  \n",
       "5                         0  \n",
       "6                         0  \n",
       "\n",
       "[5 rows x 34 columns]"
      ]
     },
     "execution_count": 60,
     "metadata": {},
     "output_type": "execute_result"
    }
   ],
   "source": [
    "#bring in the one-hot encoded categorical variables with the other numerical variables\n",
    "Xonehot2=X.join(Xonehot)\n",
    "Xonehot2.head()"
   ]
  },
  {
   "cell_type": "code",
   "execution_count": 61,
   "metadata": {},
   "outputs": [],
   "source": [
    "#bring in the one-hot encoded categorical variables with the other numerical variables\n",
    "Xonehot2=X.join(Xonehot)\n",
    "\n",
    "#standadize the data so all on same scale\n",
    "Xonehot_std = StandardScaler().fit_transform(Xonehot2)\n",
    "Xonehot_std=pd.DataFrame(Xonehot_std)\n",
    "Xonehot_std.columns=Xonehot2.columns\n"
   ]
  },
  {
   "cell_type": "code",
   "execution_count": 62,
   "metadata": {},
   "outputs": [
    {
     "data": {
      "text/html": [
       "<div>\n",
       "<style scoped>\n",
       "    .dataframe tbody tr th:only-of-type {\n",
       "        vertical-align: middle;\n",
       "    }\n",
       "\n",
       "    .dataframe tbody tr th {\n",
       "        vertical-align: top;\n",
       "    }\n",
       "\n",
       "    .dataframe thead th {\n",
       "        text-align: right;\n",
       "    }\n",
       "</style>\n",
       "<table border=\"1\" class=\"dataframe\">\n",
       "  <thead>\n",
       "    <tr style=\"text-align: right;\">\n",
       "      <th></th>\n",
       "      <th>seniority</th>\n",
       "      <th>salary</th>\n",
       "      <th>join_month</th>\n",
       "      <th>join_year</th>\n",
       "      <th>days_since_hire</th>\n",
       "      <th>company_id_a</th>\n",
       "      <th>company_id_b</th>\n",
       "      <th>company_id_c</th>\n",
       "      <th>company_id_d</th>\n",
       "      <th>company_id_e</th>\n",
       "      <th>...</th>\n",
       "      <th>group_seniority_b. 5-9</th>\n",
       "      <th>group_seniority_c. 10-14</th>\n",
       "      <th>group_seniority_d. 15-19</th>\n",
       "      <th>group_seniority_e. 20-24</th>\n",
       "      <th>group_seniority_f. 25-30</th>\n",
       "      <th>group_salary_a. 17-70k</th>\n",
       "      <th>group_salary_b. 70-105k</th>\n",
       "      <th>group_salary_c. 105-145k</th>\n",
       "      <th>group_salary_d. 145-203k</th>\n",
       "      <th>group_salary_e. 203-408k</th>\n",
       "    </tr>\n",
       "  </thead>\n",
       "  <tbody>\n",
       "    <tr>\n",
       "      <th>0</th>\n",
       "      <td>0.853688</td>\n",
       "      <td>0.694848</td>\n",
       "      <td>-0.446216</td>\n",
       "      <td>-1.437024</td>\n",
       "      <td>1.516200</td>\n",
       "      <td>-0.723837</td>\n",
       "      <td>-0.453779</td>\n",
       "      <td>-0.354002</td>\n",
       "      <td>-0.301376</td>\n",
       "      <td>-0.276798</td>\n",
       "      <td>...</td>\n",
       "      <td>-0.488564</td>\n",
       "      <td>-0.482372</td>\n",
       "      <td>-0.472851</td>\n",
       "      <td>2.301410</td>\n",
       "      <td>-0.390095</td>\n",
       "      <td>-0.505314</td>\n",
       "      <td>-0.495510</td>\n",
       "      <td>-0.501089</td>\n",
       "      <td>1.986261</td>\n",
       "      <td>-0.494611</td>\n",
       "    </tr>\n",
       "    <tr>\n",
       "      <th>1</th>\n",
       "      <td>-0.635901</td>\n",
       "      <td>-0.633325</td>\n",
       "      <td>-1.036073</td>\n",
       "      <td>-0.719322</td>\n",
       "      <td>0.903712</td>\n",
       "      <td>-0.723837</td>\n",
       "      <td>-0.453779</td>\n",
       "      <td>2.824844</td>\n",
       "      <td>-0.301376</td>\n",
       "      <td>-0.276798</td>\n",
       "      <td>...</td>\n",
       "      <td>2.046813</td>\n",
       "      <td>-0.482372</td>\n",
       "      <td>-0.472851</td>\n",
       "      <td>-0.434516</td>\n",
       "      <td>-0.390095</td>\n",
       "      <td>-0.505314</td>\n",
       "      <td>2.018124</td>\n",
       "      <td>-0.501089</td>\n",
       "      <td>-0.503458</td>\n",
       "      <td>-0.494611</td>\n",
       "    </tr>\n",
       "    <tr>\n",
       "      <th>2</th>\n",
       "      <td>0.729555</td>\n",
       "      <td>2.101922</td>\n",
       "      <td>-0.741144</td>\n",
       "      <td>-0.001619</td>\n",
       "      <td>0.166385</td>\n",
       "      <td>-0.723837</td>\n",
       "      <td>2.203714</td>\n",
       "      <td>-0.354002</td>\n",
       "      <td>-0.301376</td>\n",
       "      <td>-0.276798</td>\n",
       "      <td>...</td>\n",
       "      <td>-0.488564</td>\n",
       "      <td>-0.482372</td>\n",
       "      <td>-0.472851</td>\n",
       "      <td>2.301410</td>\n",
       "      <td>-0.390095</td>\n",
       "      <td>-0.505314</td>\n",
       "      <td>-0.495510</td>\n",
       "      <td>-0.501089</td>\n",
       "      <td>-0.503458</td>\n",
       "      <td>2.021793</td>\n",
       "    </tr>\n",
       "    <tr>\n",
       "      <th>3</th>\n",
       "      <td>0.729555</td>\n",
       "      <td>0.550196</td>\n",
       "      <td>-0.151287</td>\n",
       "      <td>0.716084</td>\n",
       "      <td>-0.707484</td>\n",
       "      <td>-0.723837</td>\n",
       "      <td>-0.453779</td>\n",
       "      <td>-0.354002</td>\n",
       "      <td>-0.301376</td>\n",
       "      <td>3.612738</td>\n",
       "      <td>...</td>\n",
       "      <td>-0.488564</td>\n",
       "      <td>-0.482372</td>\n",
       "      <td>-0.472851</td>\n",
       "      <td>2.301410</td>\n",
       "      <td>-0.390095</td>\n",
       "      <td>-0.505314</td>\n",
       "      <td>-0.495510</td>\n",
       "      <td>-0.501089</td>\n",
       "      <td>1.986261</td>\n",
       "      <td>-0.494611</td>\n",
       "    </tr>\n",
       "    <tr>\n",
       "      <th>4</th>\n",
       "      <td>0.481291</td>\n",
       "      <td>-0.251968</td>\n",
       "      <td>0.143642</td>\n",
       "      <td>-0.719322</td>\n",
       "      <td>0.712553</td>\n",
       "      <td>-0.723837</td>\n",
       "      <td>-0.453779</td>\n",
       "      <td>2.824844</td>\n",
       "      <td>-0.301376</td>\n",
       "      <td>-0.276798</td>\n",
       "      <td>...</td>\n",
       "      <td>-0.488564</td>\n",
       "      <td>-0.482372</td>\n",
       "      <td>2.114829</td>\n",
       "      <td>-0.434516</td>\n",
       "      <td>-0.390095</td>\n",
       "      <td>-0.505314</td>\n",
       "      <td>-0.495510</td>\n",
       "      <td>1.995652</td>\n",
       "      <td>-0.503458</td>\n",
       "      <td>-0.494611</td>\n",
       "    </tr>\n",
       "  </tbody>\n",
       "</table>\n",
       "<p>5 rows × 34 columns</p>\n",
       "</div>"
      ],
      "text/plain": [
       "   seniority    salary  join_month  join_year  days_since_hire  company_id_a  \\\n",
       "0   0.853688  0.694848   -0.446216  -1.437024         1.516200     -0.723837   \n",
       "1  -0.635901 -0.633325   -1.036073  -0.719322         0.903712     -0.723837   \n",
       "2   0.729555  2.101922   -0.741144  -0.001619         0.166385     -0.723837   \n",
       "3   0.729555  0.550196   -0.151287   0.716084        -0.707484     -0.723837   \n",
       "4   0.481291 -0.251968    0.143642  -0.719322         0.712553     -0.723837   \n",
       "\n",
       "   company_id_b  company_id_c  company_id_d  company_id_e  \\\n",
       "0     -0.453779     -0.354002     -0.301376     -0.276798   \n",
       "1     -0.453779      2.824844     -0.301376     -0.276798   \n",
       "2      2.203714     -0.354002     -0.301376     -0.276798   \n",
       "3     -0.453779     -0.354002     -0.301376      3.612738   \n",
       "4     -0.453779      2.824844     -0.301376     -0.276798   \n",
       "\n",
       "             ...             group_seniority_b. 5-9  group_seniority_c. 10-14  \\\n",
       "0            ...                          -0.488564                 -0.482372   \n",
       "1            ...                           2.046813                 -0.482372   \n",
       "2            ...                          -0.488564                 -0.482372   \n",
       "3            ...                          -0.488564                 -0.482372   \n",
       "4            ...                          -0.488564                 -0.482372   \n",
       "\n",
       "   group_seniority_d. 15-19  group_seniority_e. 20-24  \\\n",
       "0                 -0.472851                  2.301410   \n",
       "1                 -0.472851                 -0.434516   \n",
       "2                 -0.472851                  2.301410   \n",
       "3                 -0.472851                  2.301410   \n",
       "4                  2.114829                 -0.434516   \n",
       "\n",
       "   group_seniority_f. 25-30  group_salary_a. 17-70k  group_salary_b. 70-105k  \\\n",
       "0                 -0.390095               -0.505314                -0.495510   \n",
       "1                 -0.390095               -0.505314                 2.018124   \n",
       "2                 -0.390095               -0.505314                -0.495510   \n",
       "3                 -0.390095               -0.505314                -0.495510   \n",
       "4                 -0.390095               -0.505314                -0.495510   \n",
       "\n",
       "   group_salary_c. 105-145k  group_salary_d. 145-203k  \\\n",
       "0                 -0.501089                  1.986261   \n",
       "1                 -0.501089                 -0.503458   \n",
       "2                 -0.501089                 -0.503458   \n",
       "3                 -0.501089                  1.986261   \n",
       "4                  1.995652                 -0.503458   \n",
       "\n",
       "   group_salary_e. 203-408k  \n",
       "0                 -0.494611  \n",
       "1                 -0.494611  \n",
       "2                  2.021793  \n",
       "3                 -0.494611  \n",
       "4                 -0.494611  \n",
       "\n",
       "[5 rows x 34 columns]"
      ]
     },
     "execution_count": 62,
     "metadata": {},
     "output_type": "execute_result"
    }
   ],
   "source": [
    "Xonehot_std.head()"
   ]
  },
  {
   "cell_type": "code",
   "execution_count": 63,
   "metadata": {},
   "outputs": [
    {
     "data": {
      "text/plain": [
       "LogisticRegression(C=1.0, class_weight=None, dual=False, fit_intercept=True,\n",
       "          intercept_scaling=1, max_iter=100, multi_class='ovr', n_jobs=1,\n",
       "          penalty='l2', random_state=None, solver='liblinear', tol=0.0001,\n",
       "          verbose=0, warm_start=False)"
      ]
     },
     "execution_count": 63,
     "metadata": {},
     "output_type": "execute_result"
    }
   ],
   "source": [
    "from sklearn.linear_model import LogisticRegression\n",
    "from sklearn import metrics\n",
    "\n",
    "X_train, X_test, y_train, y_test = train_test_split(Xonehot_std, Y, test_size=0.3, random_state=0)\n",
    "#X_trainstd, X_teststd, y_trainstd, y_teststd = train_test_split(Xstd, Y, test_size=0.3, random_state=0)\n",
    "logreg = LogisticRegression()\n",
    "log_model=logreg.fit(X_train, y_train)\n",
    "\n",
    "log_model"
   ]
  },
  {
   "cell_type": "code",
   "execution_count": 64,
   "metadata": {},
   "outputs": [
    {
     "name": "stdout",
     "output_type": "stream",
     "text": [
      "Accuracy of logistic regression classifier on test set: 0.80\n"
     ]
    }
   ],
   "source": [
    "#Let's see what people are predicted correctly\n",
    "y_predLR = logreg.predict(X_test)\n",
    "print('Accuracy of logistic regression classifier on test set: {:.2f}'.format(logreg.score(X_test, y_test)))"
   ]
  },
  {
   "cell_type": "code",
   "execution_count": 65,
   "metadata": {},
   "outputs": [],
   "source": [
    "#Confusion matrix, let's examine our false positives (we erronouesly predict a school is classified as elementary),\n",
    "#and our false negatives (we fail to classify a school as elementary when we should)\n",
    "\n",
    "from sklearn.metrics import confusion_matrix, classification_report\n",
    "confusion_matrix = confusion_matrix(y_test, y_predLR)\n",
    "#[True neg, False positive]Predicted along x, actual on column going down\n",
    "#[False negative, True positive]"
   ]
  },
  {
   "cell_type": "code",
   "execution_count": 66,
   "metadata": {},
   "outputs": [
    {
     "data": {
      "text/plain": [
       "Text(0.5, 1.0, 'Logisitc Regression')"
      ]
     },
     "execution_count": 66,
     "metadata": {},
     "output_type": "execute_result"
    },
    {
     "data": {
      "image/png": "[encoded data removed]",
      "text/plain": [
       "<Figure size 432x288 with 2 Axes>"
      ]
     },
     "metadata": {},
     "output_type": "display_data"
    }
   ],
   "source": [
    "sns.heatmap(confusion_matrix, annot=True, fmt='.2f',xticklabels = [\"Left\", \"Stayed\"] , yticklabels = [\"Left\", \"Stayed\"] )\n",
    "plt.ylabel('True class')\n",
    "plt.xlabel('Predicted class')\n",
    "plt.title('Logisitc Regression')\n"
   ]
  },
  {
   "cell_type": "markdown",
   "metadata": {},
   "source": [
    "The confusion matrix gives an idea of how well our classifier is doing, There are 3830 correct true negatives, 177 false positives, 0 false negatives, and 3307 true positives. This means our model is performing pretty well at predicting whether or not a person will stay or leave the company."
   ]
  },
  {
   "cell_type": "code",
   "execution_count": 67,
   "metadata": {},
   "outputs": [
    {
     "name": "stdout",
     "output_type": "stream",
     "text": [
      "             precision    recall  f1-score   support\n",
      "\n",
      "          0       0.81      0.82      0.81      4007\n",
      "          1       0.78      0.77      0.77      3307\n",
      "\n",
      "avg / total       0.80      0.80      0.80      7314\n",
      "\n"
     ]
    }
   ],
   "source": [
    "print(classification_report(y_test, y_predLR))"
   ]
  },
  {
   "cell_type": "markdown",
   "metadata": {},
   "source": [
    "This logistic regression model shows that the F1-score, an overall metric of precision and recall (ability to correctly identify true positives while minimizing false negatives and false positives) is very high, at 98%. This means our model is doing a good job."
   ]
  },
  {
   "cell_type": "markdown",
   "metadata": {},
   "source": [
    "### Let's see if we can determine what key features are driving the model, and are likely predictive of if a person stays ore leaves\n",
    "\n",
    "By examining the standardized logistic regression coefficients, we can see which features have the most weight by looking at the absolute values (big negative values are still important)."
   ]
  },
  {
   "cell_type": "code",
   "execution_count": 68,
   "metadata": {},
   "outputs": [
    {
     "data": {
      "text/html": [
       "<div>\n",
       "<style scoped>\n",
       "    .dataframe tbody tr th:only-of-type {\n",
       "        vertical-align: middle;\n",
       "    }\n",
       "\n",
       "    .dataframe tbody tr th {\n",
       "        vertical-align: top;\n",
       "    }\n",
       "\n",
       "    .dataframe thead th {\n",
       "        text-align: right;\n",
       "    }\n",
       "</style>\n",
       "<table border=\"1\" class=\"dataframe\">\n",
       "  <thead>\n",
       "    <tr style=\"text-align: right;\">\n",
       "      <th></th>\n",
       "      <th>feature</th>\n",
       "      <th>coef</th>\n",
       "    </tr>\n",
       "  </thead>\n",
       "  <tbody>\n",
       "    <tr>\n",
       "      <th>0</th>\n",
       "      <td>seniority</td>\n",
       "      <td>0.244285</td>\n",
       "    </tr>\n",
       "    <tr>\n",
       "      <th>1</th>\n",
       "      <td>salary</td>\n",
       "      <td>0.578897</td>\n",
       "    </tr>\n",
       "    <tr>\n",
       "      <th>2</th>\n",
       "      <td>join_month</td>\n",
       "      <td>0.057185</td>\n",
       "    </tr>\n",
       "    <tr>\n",
       "      <th>3</th>\n",
       "      <td>join_year</td>\n",
       "      <td>0.697686</td>\n",
       "    </tr>\n",
       "    <tr>\n",
       "      <th>4</th>\n",
       "      <td>days_since_hire</td>\n",
       "      <td>-1.249413</td>\n",
       "    </tr>\n",
       "    <tr>\n",
       "      <th>5</th>\n",
       "      <td>company_id_a</td>\n",
       "      <td>-0.034201</td>\n",
       "    </tr>\n",
       "  </tbody>\n",
       "</table>\n",
       "</div>"
      ],
      "text/plain": [
       "           feature      coef\n",
       "0        seniority  0.244285\n",
       "1           salary  0.578897\n",
       "2       join_month  0.057185\n",
       "3        join_year  0.697686\n",
       "4  days_since_hire -1.249413\n",
       "5     company_id_a -0.034201"
      ]
     },
     "execution_count": 68,
     "metadata": {},
     "output_type": "execute_result"
    }
   ],
   "source": [
    "coefficients = np.transpose(log_model.coef_)\n",
    "xx=map(lambda x: x[0], coefficients)\n",
    "coefficients=pd.Series(xx)\n",
    "\n",
    "LRcoeff_df=pd.DataFrame(dict(feature= X_train.columns, coef=coefficients))\n",
    "LRcoeff_df.head(6)"
   ]
  },
  {
   "cell_type": "code",
   "execution_count": 69,
   "metadata": {},
   "outputs": [
    {
     "data": {
      "text/html": [
       "<div>\n",
       "<style scoped>\n",
       "    .dataframe tbody tr th:only-of-type {\n",
       "        vertical-align: middle;\n",
       "    }\n",
       "\n",
       "    .dataframe tbody tr th {\n",
       "        vertical-align: top;\n",
       "    }\n",
       "\n",
       "    .dataframe thead th {\n",
       "        text-align: right;\n",
       "    }\n",
       "</style>\n",
       "<table border=\"1\" class=\"dataframe\">\n",
       "  <thead>\n",
       "    <tr style=\"text-align: right;\">\n",
       "      <th></th>\n",
       "      <th>feature</th>\n",
       "      <th>coef</th>\n",
       "    </tr>\n",
       "  </thead>\n",
       "  <tbody>\n",
       "    <tr>\n",
       "      <th>4</th>\n",
       "      <td>days_since_hire</td>\n",
       "      <td>-1.249413</td>\n",
       "    </tr>\n",
       "    <tr>\n",
       "      <th>3</th>\n",
       "      <td>join_year</td>\n",
       "      <td>0.697686</td>\n",
       "    </tr>\n",
       "    <tr>\n",
       "      <th>1</th>\n",
       "      <td>salary</td>\n",
       "      <td>0.578897</td>\n",
       "    </tr>\n",
       "    <tr>\n",
       "      <th>23</th>\n",
       "      <td>group_seniority_a. 0-4</td>\n",
       "      <td>0.370907</td>\n",
       "    </tr>\n",
       "    <tr>\n",
       "      <th>0</th>\n",
       "      <td>seniority</td>\n",
       "      <td>0.244285</td>\n",
       "    </tr>\n",
       "    <tr>\n",
       "      <th>28</th>\n",
       "      <td>group_seniority_f. 25-30</td>\n",
       "      <td>-0.197610</td>\n",
       "    </tr>\n",
       "    <tr>\n",
       "      <th>27</th>\n",
       "      <td>group_seniority_e. 20-24</td>\n",
       "      <td>-0.161985</td>\n",
       "    </tr>\n",
       "    <tr>\n",
       "      <th>29</th>\n",
       "      <td>group_salary_a. 17-70k</td>\n",
       "      <td>0.126822</td>\n",
       "    </tr>\n",
       "    <tr>\n",
       "      <th>26</th>\n",
       "      <td>group_seniority_d. 15-19</td>\n",
       "      <td>-0.117887</td>\n",
       "    </tr>\n",
       "    <tr>\n",
       "      <th>17</th>\n",
       "      <td>dept_customer_service</td>\n",
       "      <td>0.104929</td>\n",
       "    </tr>\n",
       "    <tr>\n",
       "      <th>32</th>\n",
       "      <td>group_salary_d. 145-203k</td>\n",
       "      <td>-0.103264</td>\n",
       "    </tr>\n",
       "    <tr>\n",
       "      <th>24</th>\n",
       "      <td>group_seniority_b. 5-9</td>\n",
       "      <td>0.071047</td>\n",
       "    </tr>\n",
       "    <tr>\n",
       "      <th>20</th>\n",
       "      <td>dept_engineer</td>\n",
       "      <td>-0.067988</td>\n",
       "    </tr>\n",
       "    <tr>\n",
       "      <th>18</th>\n",
       "      <td>dept_data_science</td>\n",
       "      <td>-0.067518</td>\n",
       "    </tr>\n",
       "    <tr>\n",
       "      <th>2</th>\n",
       "      <td>join_month</td>\n",
       "      <td>0.057185</td>\n",
       "    </tr>\n",
       "    <tr>\n",
       "      <th>30</th>\n",
       "      <td>group_salary_b. 70-105k</td>\n",
       "      <td>0.055292</td>\n",
       "    </tr>\n",
       "    <tr>\n",
       "      <th>31</th>\n",
       "      <td>group_salary_c. 105-145k</td>\n",
       "      <td>-0.044525</td>\n",
       "    </tr>\n",
       "    <tr>\n",
       "      <th>10</th>\n",
       "      <td>company_id_f</td>\n",
       "      <td>0.041311</td>\n",
       "    </tr>\n",
       "    <tr>\n",
       "      <th>33</th>\n",
       "      <td>group_salary_e. 203-408k</td>\n",
       "      <td>-0.034569</td>\n",
       "    </tr>\n",
       "    <tr>\n",
       "      <th>5</th>\n",
       "      <td>company_id_a</td>\n",
       "      <td>-0.034201</td>\n",
       "    </tr>\n",
       "    <tr>\n",
       "      <th>25</th>\n",
       "      <td>group_seniority_c. 10-14</td>\n",
       "      <td>0.033431</td>\n",
       "    </tr>\n",
       "    <tr>\n",
       "      <th>19</th>\n",
       "      <td>dept_design</td>\n",
       "      <td>0.024659</td>\n",
       "    </tr>\n",
       "    <tr>\n",
       "      <th>6</th>\n",
       "      <td>company_id_b</td>\n",
       "      <td>0.022517</td>\n",
       "    </tr>\n",
       "    <tr>\n",
       "      <th>7</th>\n",
       "      <td>company_id_c</td>\n",
       "      <td>-0.019919</td>\n",
       "    </tr>\n",
       "    <tr>\n",
       "      <th>13</th>\n",
       "      <td>company_id_i</td>\n",
       "      <td>0.019453</td>\n",
       "    </tr>\n",
       "    <tr>\n",
       "      <th>12</th>\n",
       "      <td>company_id_h</td>\n",
       "      <td>0.014620</td>\n",
       "    </tr>\n",
       "    <tr>\n",
       "      <th>22</th>\n",
       "      <td>dept_sales</td>\n",
       "      <td>-0.014615</td>\n",
       "    </tr>\n",
       "    <tr>\n",
       "      <th>16</th>\n",
       "      <td>company_id_l</td>\n",
       "      <td>0.013113</td>\n",
       "    </tr>\n",
       "    <tr>\n",
       "      <th>15</th>\n",
       "      <td>company_id_k</td>\n",
       "      <td>-0.008289</td>\n",
       "    </tr>\n",
       "    <tr>\n",
       "      <th>8</th>\n",
       "      <td>company_id_d</td>\n",
       "      <td>-0.007591</td>\n",
       "    </tr>\n",
       "    <tr>\n",
       "      <th>21</th>\n",
       "      <td>dept_marketing</td>\n",
       "      <td>-0.007041</td>\n",
       "    </tr>\n",
       "    <tr>\n",
       "      <th>9</th>\n",
       "      <td>company_id_e</td>\n",
       "      <td>-0.006769</td>\n",
       "    </tr>\n",
       "    <tr>\n",
       "      <th>11</th>\n",
       "      <td>company_id_g</td>\n",
       "      <td>0.005271</td>\n",
       "    </tr>\n",
       "    <tr>\n",
       "      <th>14</th>\n",
       "      <td>company_id_j</td>\n",
       "      <td>0.003524</td>\n",
       "    </tr>\n",
       "  </tbody>\n",
       "</table>\n",
       "</div>"
      ],
      "text/plain": [
       "                     feature      coef\n",
       "4            days_since_hire -1.249413\n",
       "3                  join_year  0.697686\n",
       "1                     salary  0.578897\n",
       "23    group_seniority_a. 0-4  0.370907\n",
       "0                  seniority  0.244285\n",
       "28  group_seniority_f. 25-30 -0.197610\n",
       "27  group_seniority_e. 20-24 -0.161985\n",
       "29    group_salary_a. 17-70k  0.126822\n",
       "26  group_seniority_d. 15-19 -0.117887\n",
       "17     dept_customer_service  0.104929\n",
       "32  group_salary_d. 145-203k -0.103264\n",
       "24    group_seniority_b. 5-9  0.071047\n",
       "20             dept_engineer -0.067988\n",
       "18         dept_data_science -0.067518\n",
       "2                 join_month  0.057185\n",
       "30   group_salary_b. 70-105k  0.055292\n",
       "31  group_salary_c. 105-145k -0.044525\n",
       "10              company_id_f  0.041311\n",
       "33  group_salary_e. 203-408k -0.034569\n",
       "5               company_id_a -0.034201\n",
       "25  group_seniority_c. 10-14  0.033431\n",
       "19               dept_design  0.024659\n",
       "6               company_id_b  0.022517\n",
       "7               company_id_c -0.019919\n",
       "13              company_id_i  0.019453\n",
       "12              company_id_h  0.014620\n",
       "22                dept_sales -0.014615\n",
       "16              company_id_l  0.013113\n",
       "15              company_id_k -0.008289\n",
       "8               company_id_d -0.007591\n",
       "21            dept_marketing -0.007041\n",
       "9               company_id_e -0.006769\n",
       "11              company_id_g  0.005271\n",
       "14              company_id_j  0.003524"
      ]
     },
     "execution_count": 69,
     "metadata": {},
     "output_type": "execute_result"
    }
   ],
   "source": [
    "LRcoeff_df.reindex(LRcoeff_df.coef.abs().sort_values(ascending=False).index)"
   ]
  },
  {
   "cell_type": "markdown",
   "metadata": {},
   "source": [
    "# Conclusions"
   ]
  },
  {
   "cell_type": "markdown",
   "metadata": {},
   "source": [
    "### top 5 features responsible for employee churn are:\n",
    "    \n",
    "    1. days_employed = number of days the employee has been employeed\n",
    "    coefficient = 17.9, so the longer an employee stays the more likely it is they will be retained\n",
    "    \n",
    "    2. days_since_hire = number of days ago (from present 2015-12-13) that the employee was hired. This is a surrogate for hired date, since logistic regression cannot handle dates.\n",
    "    coefficient = -14.2, the longer ago an employee was hired the more likely it is they will leave or churn. This is in opposition to 'days_employeed', which means if a person has been working for 100 days (days_employeed) but was hired 500 days ago instead of 100 days ago, they are more likely to churn if they were hired 500 days ago.\n",
    "    \n",
    "    3. join_year = numeric value 2011, 2012, 2013, 2014, 2015\n",
    "    coefficient = 11.98, indicates the later an employee joined the more likely they are to be retained. This agrees with the 'days_since_hire' variable coefficient being negative.\n",
    "    \n",
    "    4. join_month = numeric value 1-12\n",
    "    coefficient = 2.0, this means employees hired in the later part of the year (months near 12) are more likely to stay employeed.\n",
    "    \n",
    "    5. seniority = number of years employee has experience when they were hired\n",
    "    coefficient = 0.35, this means the more experience they have the more likely they are to stay. Although it is a weaker coefficient (below 1)."
   ]
  },
  {
   "cell_type": "code",
   "execution_count": 531,
   "metadata": {},
   "outputs": [],
   "source": [
    "df_emp_retain=df_emp[df_emp.retained==1]\n",
    "df_emp_churn=df_emp[df_emp.retained==0]"
   ]
  },
  {
   "cell_type": "code",
   "execution_count": 532,
   "metadata": {},
   "outputs": [
    {
     "data": {
      "text/plain": [
       "Text(0.5,0,'days employed')"
      ]
     },
     "execution_count": 532,
     "metadata": {},
     "output_type": "execute_result"
    },
    {
     "data": {
      "image/png": "[encoded data removed]",
      "text/plain": [
       "<Figure size 432x288 with 1 Axes>"
      ]
     },
     "metadata": {},
     "output_type": "display_data"
    }
   ],
   "source": [
    "plt.hist(df_emp_retain['days_emp'])\n",
    "plt.title('Retained employees and days employed')\n",
    "plt.xlabel('days employed')"
   ]
  },
  {
   "cell_type": "code",
   "execution_count": 533,
   "metadata": {},
   "outputs": [
    {
     "data": {
      "text/plain": [
       "Text(0.5,0,'days employed')"
      ]
     },
     "execution_count": 533,
     "metadata": {},
     "output_type": "execute_result"
    },
    {
     "data": {
      "image/png": "[encoded data removed]",
      "text/plain": [
       "<Figure size 432x288 with 1 Axes>"
      ]
     },
     "metadata": {},
     "output_type": "display_data"
    }
   ],
   "source": [
    "plt.hist(df_emp_churn['days_emp'])\n",
    "plt.title('Churn employees and days employed')\n",
    "plt.xlabel('days employed')"
   ]
  },
  {
   "cell_type": "markdown",
   "metadata": {},
   "source": [
    "Recommendations: It appears there is no hard and fast rule for employee retention. However, employees that churn tend to do so earlier rather than later, within the first 250 days of employment. Therefore, if an employee has been there less than 1-year, it is important to check on them and make sure they are doing well.\n",
    "    \n"
   ]
  },
  {
   "cell_type": "markdown",
   "metadata": {},
   "source": [
    "### What might you be able to do for the company to address employee Churn, what would be follow-up actions?\n",
    "\n",
    "We could now use this logistic regression model and monitor current employees, if we predict that an employee will churn, based on their profile at that point in time, we could recommend the company assess that employee's performance, and benefit package. If there is room for promotions and/or raises that may incentivise the employee to stay with the company, we could suggest these actions.\n",
    "\n",
    "This model should be 98% accurate in prediciting employee churn, and may offer a way to reduce churn by targeting vulnerable employees before they leave."
   ]
  },
  {
   "cell_type": "markdown",
   "metadata": {},
   "source": [
    "### If you could add to this data set just one variable that could help explain employee churn, what would that be?\n",
    "\n",
    "Adding some assessment of employee satisfaction may help us better predict who will leave and stay."
   ]
  }
 ],
 "metadata": {
  "kernelspec": {
   "display_name": "Python [conda env:insight]",
   "language": "python",
   "name": "conda-env-insight-py"
  },
  "language_info": {
   "codemirror_mode": {
    "name": "ipython",
    "version": 3
   },
   "file_extension": ".py",
   "mimetype": "text/x-python",
   "name": "python",
   "nbconvert_exporter": "python",
   "pygments_lexer": "ipython3",
   "version": "3.6.6"
  }
 },
 "nbformat": 4,
 "nbformat_minor": 2
}
